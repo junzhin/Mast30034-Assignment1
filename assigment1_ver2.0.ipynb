{
 "cells": [
  {
   "cell_type": "code",
   "execution_count": null,
   "id": "58d74575",
   "metadata": {
    "ExecuteTime": {
     "end_time": "2021-08-27T15:57:35.555590Z",
     "start_time": "2021-08-27T15:57:32.697664Z"
    }
   },
   "outputs": [],
   "source": [
    "import pandas as pd\n",
    "import gc \n",
    "import warnings\n",
    "import numpy as np\n",
    "from datetime import timedelta\n",
    "warnings.filterwarnings(\"ignore\")\n",
    "import matplotlib.pyplot as plt\n",
    "from sklearn.preprocessing import StandardScaler\n",
    "from sklearn.metrics import mean_squared_error\n",
    "import seaborn as sns"
   ]
  },
  {
   "cell_type": "code",
   "execution_count": null,
   "id": "6bd83a12",
   "metadata": {},
   "outputs": [],
   "source": [
    "#  In this Assignment, due to the noise are generated randomly each time you run the notebook, so the results might not be consistent with results shown ont he "
   ]
  },
  {
   "cell_type": "markdown",
   "id": "aa820fed",
   "metadata": {},
   "source": [
    "# Question 1"
   ]
  },
  {
   "cell_type": "markdown",
   "id": "c7274371",
   "metadata": {},
   "source": [
    "## 1.1"
   ]
  },
  {
   "cell_type": "code",
   "execution_count": null,
   "id": "63afce8d",
   "metadata": {
    "ExecuteTime": {
     "end_time": "2021-08-27T15:57:35.571602Z",
     "start_time": "2021-08-27T15:57:35.559595Z"
    }
   },
   "outputs": [],
   "source": [
    "N = 240"
   ]
  },
  {
   "cell_type": "code",
   "execution_count": null,
   "id": "1abf805a",
   "metadata": {
    "ExecuteTime": {
     "end_time": "2021-08-27T15:57:35.588590Z",
     "start_time": "2021-08-27T15:57:35.576591Z"
    }
   },
   "outputs": [],
   "source": [
    "AV = [0,20,0,0,0,0]\n",
    "IV = [30,45,60,40,40,40]\n",
    "duration_of_ones =[15,20,25,15,20,25]"
   ]
  },
  {
   "cell_type": "code",
   "execution_count": null,
   "id": "918b94f0",
   "metadata": {
    "ExecuteTime": {
     "end_time": "2021-08-27T15:57:35.618592Z",
     "start_time": "2021-08-27T15:57:35.596592Z"
    }
   },
   "outputs": [],
   "source": [
    "def TC_generator(index, N, AV, IV, duration_of_ones,debug_mode = 0):\n",
    "    array = [ 0 if i >= AV[index] else 0 for i in range(0, N)]\n",
    "    array_2 =  [1 if i >= AV[index] and (i - AV[index])%IV[index]  < duration_of_ones[index] else array[i] for  i in range(0, len(array))]\n",
    "    if(debug_mode != 0):\n",
    "        print(array)\n",
    "        print(array_2)\n",
    "        \n",
    "    return array_2"
   ]
  },
  {
   "cell_type": "markdown",
   "id": "e1752b92",
   "metadata": {},
   "source": [
    "# T1"
   ]
  },
  {
   "cell_type": "code",
   "execution_count": null,
   "id": "90ceec43",
   "metadata": {
    "ExecuteTime": {
     "end_time": "2021-08-27T15:57:36.045588Z",
     "start_time": "2021-08-27T15:57:35.623594Z"
    },
    "scrolled": false
   },
   "outputs": [],
   "source": [
    "current_T1 = TC_generator(0,240, AV,IV, duration_of_ones)\n",
    "current_T1 = np.array(current_T1)\n",
    "standardized_current_T1= [(current_T1[i] - current_T1.mean())/ current_T1.std() for i in range(0, N)]\n",
    "# data to be plotted\n",
    "x = [i for i in range(0, N)]\n",
    "# plotting\n",
    "plt.title(\" TC1\")\n",
    "plt.xlabel(\"X axis\")\n",
    "plt.ylabel(\"Y axis\")\n",
    "plt.plot(x, standardized_current_T1, color =\"red\")\n",
    "plt.show()"
   ]
  },
  {
   "cell_type": "markdown",
   "id": "7cfd80b3",
   "metadata": {},
   "source": [
    "## T2"
   ]
  },
  {
   "cell_type": "code",
   "execution_count": null,
   "id": "d92a6a54",
   "metadata": {
    "ExecuteTime": {
     "end_time": "2021-08-27T15:57:36.266354Z",
     "start_time": "2021-08-27T15:57:36.049592Z"
    },
    "scrolled": false
   },
   "outputs": [],
   "source": [
    "scaler = StandardScaler()\n",
    "current_T2 = TC_generator(1, N, AV,IV, duration_of_ones)\n",
    "current_T2 = np.array(current_T2)\n",
    "standardized_current_T2=  (current_T2 - np.mean(current_T2)) / np.std(current_T2)\n",
    "# standardized_current_T2 = scaler.fit_transform(np.array(current_T2))\n",
    " # data to be plotted\n",
    "x = [i for i in range(0, N)]\n",
    "# plotting\n",
    "print(current_T2[30])\n",
    "plt.title(\" TC2\")\n",
    "plt.xlabel(\"X axis\")\n",
    "plt.ylabel(\"Y axis\")\n",
    "plt.plot(x, standardized_current_T2, color =\"red\")\n",
    "plt.show()"
   ]
  },
  {
   "cell_type": "markdown",
   "id": "2e2a2694",
   "metadata": {},
   "source": [
    "## T3"
   ]
  },
  {
   "cell_type": "code",
   "execution_count": null,
   "id": "0faa4059",
   "metadata": {
    "ExecuteTime": {
     "end_time": "2021-08-27T15:57:36.504592Z",
     "start_time": "2021-08-27T15:57:36.269029Z"
    }
   },
   "outputs": [],
   "source": [
    "current_T3 = TC_generator(2, 240, AV,IV, duration_of_ones)\n",
    "current_T3 = np.array(current_T3)\n",
    "standardized_current_T3 = [(current_T3[i] - current_T3.mean())/ current_T3.std() for i in range(0, N)]\n",
    " # data to be plotted\n",
    "print(current_T3[30])\n",
    "x = [i for i in range(0, N)]\n",
    "# plotting\n",
    "plt.title(\" TC3\")\n",
    "plt.xlabel(\"X axis\")\n",
    "plt.ylabel(\"Y axis\")\n",
    "plt.plot(x, standardized_current_T3, color =\"red\")\n",
    "plt.show()"
   ]
  },
  {
   "cell_type": "markdown",
   "id": "4848c828",
   "metadata": {},
   "source": [
    "## T4"
   ]
  },
  {
   "cell_type": "code",
   "execution_count": null,
   "id": "a369b26f",
   "metadata": {
    "ExecuteTime": {
     "end_time": "2021-08-27T15:57:36.711954Z",
     "start_time": "2021-08-27T15:57:36.507592Z"
    }
   },
   "outputs": [],
   "source": [
    "current_T4 = TC_generator(3, 240, AV,IV, duration_of_ones)\n",
    "current_T4 = np.array(current_T4)\n",
    "standardized_current_T4= [(current_T4[i] - current_T4.mean())/ current_T4.std() for i in range(0, N)]\n",
    " # data to be plotted\n",
    "x = [i for i in range(0, N)]\n",
    "# plotting\n",
    "plt.title(\" TC4\")\n",
    "plt.xlabel(\"X axis\")\n",
    "plt.ylabel(\"Y axis\")\n",
    "plt.plot(x, standardized_current_T4, color =\"red\")\n",
    "plt.show()"
   ]
  },
  {
   "cell_type": "markdown",
   "id": "5beafce9",
   "metadata": {},
   "source": [
    "## T5"
   ]
  },
  {
   "cell_type": "code",
   "execution_count": null,
   "id": "f6d0e371",
   "metadata": {
    "ExecuteTime": {
     "end_time": "2021-08-27T15:57:36.962573Z",
     "start_time": "2021-08-27T15:57:36.715956Z"
    }
   },
   "outputs": [],
   "source": [
    "current_T5 = TC_generator(4, 240, AV,IV, duration_of_ones)\n",
    "current_T5 = np.array(current_T5)\n",
    "standardized_current_T5= [(current_T5[i] - current_T5.mean())/ current_T5.std() for i in range(0, N)]\n",
    " # data to be plotted\n",
    "x = [i for i in range(0, N)]\n",
    "# plotting\n",
    "plt.title(\" TC5\")\n",
    "plt.xlabel(\"X axis\")\n",
    "plt.ylabel(\"Y axis\")\n",
    "plt.plot(x, standardized_current_T5, color =\"red\")\n",
    "plt.show()"
   ]
  },
  {
   "cell_type": "markdown",
   "id": "a21b6318",
   "metadata": {},
   "source": [
    "## T6"
   ]
  },
  {
   "cell_type": "code",
   "execution_count": null,
   "id": "1f6dd933",
   "metadata": {
    "ExecuteTime": {
     "end_time": "2021-08-27T15:57:37.152813Z",
     "start_time": "2021-08-27T15:57:36.966477Z"
    },
    "scrolled": false
   },
   "outputs": [],
   "source": [
    "current_T6 = TC_generator(5, 240, AV,IV, duration_of_ones)\n",
    "current_T6 = np.array(current_T6)\n",
    "standardized_current_T6= [(current_T6[i] - current_T6.mean())/ current_T6.std() for i in range(0, N)]\n",
    " # data to be plotted\n",
    "x = [i for i in range(0, N)]\n",
    "# plotting\n",
    "plt.title(\" TC6\")\n",
    "plt.xlabel(\"X axis\")\n",
    "plt.ylabel(\"Y axis\")\n",
    "plt.plot(x, standardized_current_T6, color =\"red\")\n",
    "plt.show()"
   ]
  },
  {
   "cell_type": "code",
   "execution_count": null,
   "id": "1ddc4bf0",
   "metadata": {
    "ExecuteTime": {
     "end_time": "2021-08-27T15:57:37.991652Z",
     "start_time": "2021-08-27T15:57:37.154816Z"
    }
   },
   "outputs": [],
   "source": [
    "#plotting together\n",
    "x = [i for i in range(0, 240)]\n",
    "fig, ((ax1,ax2), (ax3,ax4),(ax5,ax6)) = plt.subplots(3,2,figsize = (16,16))\n",
    "fig.suptitle(r\"Temporal Courses:\")\n",
    "ax1.set_title(\"TC1\" )\n",
    "ax1.plot(x, standardized_current_T1, color =\"red\")\n",
    "ax2.set_title(\"TC2\" )\n",
    "ax2.plot(x, standardized_current_T2, color =\"red\")\n",
    "ax3.set_title(\"TC3\" )\n",
    "ax3.plot(x, standardized_current_T3, color =\"red\")\n",
    "ax4.set_title(\"TC4\" )\n",
    "ax4.plot(x, standardized_current_T4, color =\"red\")\n",
    "ax5.set_title(\"TC5\" )\n",
    "ax5.plot(x, standardized_current_T5, color =\"red\")\n",
    "ax6.set_title(\"TC6 \" )\n",
    "ax6.plot(x, standardized_current_T6, color =\"red\")\n",
    "   \n",
    "fig.show()"
   ]
  },
  {
   "cell_type": "markdown",
   "id": "b4fb6028",
   "metadata": {},
   "source": [
    "### For difference TCs, they might not center around the origin after dividing the l_2 norm, it makes the comparsions between different TCs harder."
   ]
  },
  {
   "cell_type": "markdown",
   "id": "8c7edc4e",
   "metadata": {},
   "source": [
    "# 1.2 "
   ]
  },
  {
   "cell_type": "markdown",
   "id": "dd473628",
   "metadata": {},
   "source": [
    "### Create the dataframe"
   ]
  },
  {
   "cell_type": "code",
   "execution_count": null,
   "id": "2960fa25",
   "metadata": {
    "ExecuteTime": {
     "end_time": "2021-08-27T15:57:38.006651Z",
     "start_time": "2021-08-27T15:57:37.994653Z"
    }
   },
   "outputs": [],
   "source": [
    "data = {\n",
    "    \"T_1\":  standardized_current_T1,\n",
    "    \"T_2\":  standardized_current_T2,\n",
    "    \"T_3\":  standardized_current_T3,\n",
    "    \"T_4\":  standardized_current_T4,\n",
    "    \"T_5\":  standardized_current_T5, \n",
    "    \"T_6\":  standardized_current_T6,\n",
    "}"
   ]
  },
  {
   "cell_type": "code",
   "execution_count": null,
   "id": "0ced9b24",
   "metadata": {
    "ExecuteTime": {
     "end_time": "2021-08-27T15:57:38.037676Z",
     "start_time": "2021-08-27T15:57:38.008651Z"
    },
    "scrolled": true
   },
   "outputs": [],
   "source": [
    "data_frame_time_courses = pd.DataFrame(data)\n",
    "data_frame_time_courses.head(10)"
   ]
  },
  {
   "cell_type": "code",
   "execution_count": null,
   "id": "acb0ac8a",
   "metadata": {
    "ExecuteTime": {
     "end_time": "2021-08-27T16:34:43.103523Z",
     "start_time": "2021-08-27T16:34:43.089455Z"
    }
   },
   "outputs": [],
   "source": [
    "result = data_frame_time_courses.corr()"
   ]
  },
  {
   "cell_type": "code",
   "execution_count": null,
   "id": "61397751",
   "metadata": {
    "ExecuteTime": {
     "end_time": "2021-08-27T16:34:44.816690Z",
     "start_time": "2021-08-27T16:34:44.256020Z"
    }
   },
   "outputs": [],
   "source": [
    "result_matrix = np.array(result)\n",
    "heatmap  = sns.heatmap(result_matrix, annot=True,yticklabels=data_frame_time_courses.columns, xticklabels = data_frame_time_courses.columns)\n",
    "plt.title(\"Heatmap of Correlation Matrix for the TCs\")\n",
    "plt.xticks(rotation=300)\n",
    "plt.show()"
   ]
  },
  {
   "cell_type": "markdown",
   "id": "f9c1daba",
   "metadata": {},
   "source": [
    "### TCs with the same onset arrival vector are highly correlated, despite the fact that they have different duration of ones."
   ]
  },
  {
   "cell_type": "markdown",
   "id": "21af41fb",
   "metadata": {},
   "source": [
    "# 1.3"
   ]
  },
  {
   "cell_type": "code",
   "execution_count": null,
   "id": "a6eb64f0",
   "metadata": {
    "ExecuteTime": {
     "end_time": "2021-08-27T15:57:38.904471Z",
     "start_time": "2021-08-27T15:57:38.890631Z"
    },
    "scrolled": true
   },
   "outputs": [],
   "source": [
    "slice_1 = np.zeros((21,21))\n",
    "slice_1[2-1:6,2-1:6] = 1"
   ]
  },
  {
   "cell_type": "code",
   "execution_count": null,
   "id": "2e5ecf1c",
   "metadata": {
    "ExecuteTime": {
     "end_time": "2021-08-27T15:57:38.919981Z",
     "start_time": "2021-08-27T15:57:38.907472Z"
    }
   },
   "outputs": [],
   "source": [
    "slice_2 = np.zeros((21,21))\n",
    "slice_2[2-1:6,15-1:19] = 1"
   ]
  },
  {
   "cell_type": "code",
   "execution_count": null,
   "id": "90e65e36",
   "metadata": {
    "ExecuteTime": {
     "end_time": "2021-08-27T15:57:38.935657Z",
     "start_time": "2021-08-27T15:57:38.922984Z"
    }
   },
   "outputs": [],
   "source": [
    "slice_3 = np.zeros((21,21))\n",
    "slice_3[8-1:13,2-1:6] = 1"
   ]
  },
  {
   "cell_type": "code",
   "execution_count": null,
   "id": "594b99dd",
   "metadata": {
    "ExecuteTime": {
     "end_time": "2021-08-27T15:57:38.951658Z",
     "start_time": "2021-08-27T15:57:38.939662Z"
    }
   },
   "outputs": [],
   "source": [
    "slice_4 = np.zeros((21,21))\n",
    "slice_4[8-1:13,15-1:19] = 1"
   ]
  },
  {
   "cell_type": "code",
   "execution_count": null,
   "id": "31884e55",
   "metadata": {
    "ExecuteTime": {
     "end_time": "2021-08-27T15:57:38.967657Z",
     "start_time": "2021-08-27T15:57:38.954659Z"
    }
   },
   "outputs": [],
   "source": [
    "slice_5 = np.zeros((21,21))\n",
    "slice_5[15-1:19,2-1:6] = 1"
   ]
  },
  {
   "cell_type": "code",
   "execution_count": null,
   "id": "ae4e9e33",
   "metadata": {
    "ExecuteTime": {
     "end_time": "2021-08-27T15:57:38.983658Z",
     "start_time": "2021-08-27T15:57:38.971660Z"
    }
   },
   "outputs": [],
   "source": [
    "slice_6 = np.zeros((21,21))\n",
    "slice_6[15-1:19,15-1:19] = 1"
   ]
  },
  {
   "cell_type": "code",
   "execution_count": null,
   "id": "60c0c6cf",
   "metadata": {
    "ExecuteTime": {
     "end_time": "2021-08-27T15:57:38.999658Z",
     "start_time": "2021-08-27T15:57:38.986658Z"
    }
   },
   "outputs": [],
   "source": [
    "output_array = np.stack((slice_1.transpose(),slice_2.transpose(),slice_3.transpose(),slice_4.transpose(),slice_5.transpose(),slice_6.transpose(),), axis = 0)"
   ]
  },
  {
   "cell_type": "code",
   "execution_count": null,
   "id": "2efa7fa7",
   "metadata": {
    "ExecuteTime": {
     "end_time": "2021-08-27T15:57:39.015662Z",
     "start_time": "2021-08-27T15:57:39.002660Z"
    }
   },
   "outputs": [],
   "source": [
    "output_array.shape"
   ]
  },
  {
   "cell_type": "code",
   "execution_count": null,
   "id": "9a5283ff",
   "metadata": {
    "ExecuteTime": {
     "end_time": "2021-08-27T15:58:05.120119Z",
     "start_time": "2021-08-27T15:57:39.018670Z"
    },
    "scrolled": false
   },
   "outputs": [],
   "source": [
    "name_list = ['SM1','SM2','SM3','SM4','SM5','SM6']\n",
    "slices = [slice_1,slice_2,slice_3,slice_4,slice_5,slice_6]\n",
    "axis = [i+1 for i in range(0,21)]\n",
    "for name, SM in zip(name_list, slices):\n",
    "    print(name)\n",
    "    heatmap  = sns.heatmap(SM, annot=True,yticklabels=axis,xticklabels = axis,cmap=\"YlGnBu\")\n",
    "    plt.xticks(rotation=45)\n",
    "    plt.show()"
   ]
  },
  {
   "cell_type": "code",
   "execution_count": null,
   "id": "f89435e2",
   "metadata": {
    "ExecuteTime": {
     "end_time": "2021-08-27T15:58:47.174731Z",
     "start_time": "2021-08-27T15:58:05.122050Z"
    },
    "scrolled": false
   },
   "outputs": [],
   "source": [
    "#plotting together\n",
    "x = [i+1 for i in range(0,21)]\n",
    "fig, ((ax1,ax2), (ax3,ax4),(ax5,ax6)) = plt.subplots(3,2,figsize = (16,20))\n",
    "fig.suptitle(r\"Spatial Maps Visualisation: \")\n",
    "ax1.set_title(\"SM-1 \" )\n",
    "sns.heatmap(slice_1, annot=True,yticklabels=axis,xticklabels = axis,cmap=\"YlGnBu\", ax = ax1)\n",
    "ax2.set_title(\"SM-2 \" )\n",
    "sns.heatmap(slice_2, annot=True,yticklabels=axis,xticklabels = axis,cmap=\"YlGnBu\", ax = ax2)\n",
    "ax3.set_title(\"SM-3 \" )\n",
    "sns.heatmap(slice_3, annot=True,yticklabels=axis,xticklabels = axis,cmap=\"YlGnBu\", ax = ax3)\n",
    "ax4.set_title(\"SM-4 \" )\n",
    "sns.heatmap(slice_4, annot=True,yticklabels=axis,xticklabels = axis,cmap=\"YlGnBu\", ax = ax4)\n",
    "ax5.set_title(\"SM-5 \" )\n",
    "sns.heatmap(slice_5, annot=True,yticklabels=axis,xticklabels = axis,cmap=\"YlGnBu\", ax = ax5)\n",
    "ax6.set_title(\"SM-6 \" )\n",
    "sns.heatmap(slice_6, annot=True,yticklabels=axis,xticklabels = axis,cmap=\"YlGnBu\", ax = ax6)\n",
    "   \n",
    "fig.show()"
   ]
  },
  {
   "cell_type": "code",
   "execution_count": null,
   "id": "b5b52a6c",
   "metadata": {
    "ExecuteTime": {
     "end_time": "2021-08-27T16:36:01.288923Z",
     "start_time": "2021-08-27T16:36:01.279921Z"
    }
   },
   "outputs": [],
   "source": [
    "SMs = np.reshape(output_array , (6,441))\n",
    "print(SMs[0][25:35])"
   ]
  },
  {
   "cell_type": "code",
   "execution_count": null,
   "id": "51f73d7b",
   "metadata": {
    "ExecuteTime": {
     "end_time": "2021-08-27T16:36:02.383375Z",
     "start_time": "2021-08-27T16:36:02.370939Z"
    },
    "scrolled": true
   },
   "outputs": [],
   "source": [
    " SMs.shape"
   ]
  },
  {
   "cell_type": "code",
   "execution_count": null,
   "id": "e61b9d60",
   "metadata": {
    "ExecuteTime": {
     "end_time": "2021-08-27T16:36:03.272314Z",
     "start_time": "2021-08-27T16:36:03.258316Z"
    }
   },
   "outputs": [],
   "source": [
    "result = np.corrcoef(SMs)\n",
    "print(result)"
   ]
  },
  {
   "cell_type": "code",
   "execution_count": null,
   "id": "f477cb4d",
   "metadata": {
    "ExecuteTime": {
     "end_time": "2021-08-27T16:36:05.167763Z",
     "start_time": "2021-08-27T16:36:04.372528Z"
    }
   },
   "outputs": [],
   "source": [
    "lst = [\"SM1\",\"SM2\",\"SM3\",\"SM4\",\"SM5\",\"SM6\"]\n",
    "result_matrix = np.array(result)\n",
    "heatmap  = sns.heatmap(result_matrix, annot=True,yticklabels=lst, xticklabels = lst)\n",
    "plt.title(\"Heatmap of Correction Matrix for Spatial Sources\")\n",
    "plt.xticks(rotation=300)\n",
    "plt.show()"
   ]
  },
  {
   "cell_type": "markdown",
   "id": "87c72a6a",
   "metadata": {},
   "source": [
    "### From CM above, it seems to suggest that the SMs are independent of each other. All values on those slices lie in the same range of values, it either takes 0 or 1, so it is unnecessary to standardize them."
   ]
  },
  {
   "cell_type": "markdown",
   "id": "07226207",
   "metadata": {},
   "source": [
    "## 1.4"
   ]
  },
  {
   "cell_type": "code",
   "execution_count": null,
   "id": "bb42342a",
   "metadata": {
    "ExecuteTime": {
     "end_time": "2021-08-27T15:58:47.849920Z",
     "start_time": "2021-08-27T15:58:47.836290Z"
    }
   },
   "outputs": [],
   "source": [
    "import math\n",
    "noise_TC = np.random.normal(loc = 0.0, scale = 0.5, size = (6, 240)) \n",
    "noise_SM = np.random.normal(loc = 0.0, scale = math.sqrt(0.015), size = (6,441)) "
   ]
  },
  {
   "cell_type": "code",
   "execution_count": null,
   "id": "a036e5bf",
   "metadata": {
    "ExecuteTime": {
     "end_time": "2021-08-27T15:58:47.865791Z",
     "start_time": "2021-08-27T15:58:47.852921Z"
    }
   },
   "outputs": [],
   "source": [
    "noise_TC.shape"
   ]
  },
  {
   "cell_type": "code",
   "execution_count": null,
   "id": "0b77d273",
   "metadata": {
    "ExecuteTime": {
     "end_time": "2021-08-27T15:58:47.881790Z",
     "start_time": "2021-08-27T15:58:47.868796Z"
    }
   },
   "outputs": [],
   "source": [
    "print(noise_TC)"
   ]
  },
  {
   "cell_type": "code",
   "execution_count": null,
   "id": "6e9e4714",
   "metadata": {
    "ExecuteTime": {
     "end_time": "2021-08-27T15:58:47.897664Z",
     "start_time": "2021-08-27T15:58:47.883682Z"
    }
   },
   "outputs": [],
   "source": [
    "noise_SM.shape"
   ]
  },
  {
   "cell_type": "markdown",
   "id": "a7ccfd58",
   "metadata": {},
   "source": [
    "## For TC noise:"
   ]
  },
  {
   "cell_type": "code",
   "execution_count": null,
   "id": "193c11f1",
   "metadata": {
    "ExecuteTime": {
     "end_time": "2021-08-27T16:37:27.253506Z",
     "start_time": "2021-08-27T16:37:26.682517Z"
    },
    "scrolled": false
   },
   "outputs": [],
   "source": [
    "result = np.corrcoef(noise_TC)\n",
    "TC = [\"TC1\",\"TC2\",\"TC3\",\"TC4\",\"TC5\",\"TC6\"]\n",
    "result_matrix = np.array(result)\n",
    "heatmap  = sns.heatmap(result_matrix, annot=True, yticklabels=TC, xticklabels = TC)\n",
    "plt.title(\"Correlation Matrix fro Time courses noise\")\n",
    "plt.xticks(rotation=300)\n",
    "plt.show()"
   ]
  },
  {
   "cell_type": "markdown",
   "id": "dd375e25",
   "metadata": {},
   "source": [
    "## The noise sources are not correlated"
   ]
  },
  {
   "cell_type": "markdown",
   "id": "f6c08599",
   "metadata": {},
   "source": [
    "## The histograms of TC noise sources:"
   ]
  },
  {
   "cell_type": "code",
   "execution_count": null,
   "id": "243e845a",
   "metadata": {
    "ExecuteTime": {
     "end_time": "2021-08-27T15:58:49.718493Z",
     "start_time": "2021-08-27T15:58:48.436699Z"
    },
    "scrolled": false
   },
   "outputs": [],
   "source": [
    "name_list = [\"TC1\",\"TC2\",\"TC3\",\"TC4\",\"TC5\",\"TC6\"]\n",
    "fig, ((ax1,ax2), (ax3,ax4),(ax5,ax6)) = plt.subplots(3,2,figsize = (16,16))\n",
    "fig.suptitle(r\"Histograms of 6 TC noise sources\")\n",
    "ax1.set_title(name_list[0])\n",
    "ax1.hist(noise_TC[0],bins = 20)\n",
    "ax2.set_title(name_list[1])\n",
    "ax2.hist(noise_TC[1],bins = 20)\n",
    "ax3.set_title(name_list[2])\n",
    "ax3.hist(noise_TC[2],bins = 20)\n",
    "ax4.set_title(name_list[3])\n",
    "ax4.hist(noise_TC[3],bins = 20)\n",
    "ax5.set_title(name_list[4])\n",
    "ax5.hist(noise_TC[4],bins = 20)\n",
    "ax6.set_title(name_list[5])\n",
    "ax6.hist(noise_TC[5],bins = 20)\n",
    "fig.show()\n"
   ]
  },
  {
   "cell_type": "markdown",
   "id": "21f0e5d7",
   "metadata": {},
   "source": [
    "### Yes, the mean and standard deviations are roughly following the normal distribution with parameters specified."
   ]
  },
  {
   "cell_type": "markdown",
   "id": "15349814",
   "metadata": {},
   "source": [
    "## For Spatial Maps noise:"
   ]
  },
  {
   "cell_type": "code",
   "execution_count": null,
   "id": "1415853b",
   "metadata": {
    "ExecuteTime": {
     "end_time": "2021-08-27T16:38:24.493051Z",
     "start_time": "2021-08-27T16:38:23.412265Z"
    }
   },
   "outputs": [],
   "source": [
    "result = np.corrcoef(noise_SM)\n",
    "SM = [\"SM1\",\"SM2\",\"SM3\",\"SM4\",\"SM5\",\"SM6\"]\n",
    "result_matrix = np.array(result)\n",
    "plt.title(\"Correlation Matrix fro Spatial Maps noise\")\n",
    "heatmap  = sns.heatmap(result_matrix, annot=True,yticklabels=SM, xticklabels = SM)\n",
    "plt.xticks(rotation=300)\n",
    "plt.show()"
   ]
  },
  {
   "cell_type": "markdown",
   "id": "df758f8a",
   "metadata": {},
   "source": [
    "## The noise sources are not correlated"
   ]
  },
  {
   "cell_type": "markdown",
   "id": "d96973a7",
   "metadata": {},
   "source": [
    "## The histograms of SM noise sources:\n"
   ]
  },
  {
   "cell_type": "code",
   "execution_count": null,
   "id": "c533ad79",
   "metadata": {
    "ExecuteTime": {
     "end_time": "2021-08-27T15:58:51.270661Z",
     "start_time": "2021-08-27T15:58:50.324620Z"
    },
    "scrolled": false
   },
   "outputs": [],
   "source": [
    "name_list  = [\"SM1\",\"SM2\",\"SM3\",\"SM4\",\"SM5\",\"SM6\"]\n",
    "fig, ((ax1,ax2), (ax3,ax4),(ax5,ax6)) = plt.subplots(3,2,figsize = (16,16))\n",
    "fig.suptitle(r\"Histograms of noise for 6 Spatial Maps\")\n",
    "ax1.set_title(name_list[0])\n",
    "ax1.hist(noise_SM[0],bins = 20)\n",
    "ax2.set_title(name_list[1])\n",
    "ax2.hist(noise_SM[1],bins = 20)\n",
    "ax3.set_title(name_list[2])\n",
    "ax3.hist(noise_SM[2],bins = 20)\n",
    "ax4.set_title(name_list[3])\n",
    "ax4.hist(noise_SM[3],bins = 20)\n",
    "ax5.set_title(name_list[4])\n",
    "ax5.hist(noise_SM[4],bins = 20)\n",
    "ax6.set_title(name_list[5])\n",
    "ax6.hist(noise_SM[5],bins = 20)\n",
    "fig.show()\n"
   ]
  },
  {
   "cell_type": "markdown",
   "id": "7178073a",
   "metadata": {},
   "source": [
    "# Plot the entire noise dataset for temporal and Spatial sources"
   ]
  },
  {
   "cell_type": "code",
   "execution_count": null,
   "id": "47ad8c3b",
   "metadata": {
    "ExecuteTime": {
     "end_time": "2021-08-27T15:58:51.899390Z",
     "start_time": "2021-08-27T15:58:51.274664Z"
    },
    "scrolled": false
   },
   "outputs": [],
   "source": [
    "data  = np.reshape(noise_SM, (1,2646))[0]\n",
    "plot = sns.displot(data, bins = 50, kde = True)\n",
    "plt.title(\"Histogram of Noise data for Spatial Maps with \\n Sample mean: \"+ str(data.mean()) + \"\\n Sample Standard deviation: \" + str(data.std()))"
   ]
  },
  {
   "cell_type": "code",
   "execution_count": null,
   "id": "06c98bd1",
   "metadata": {
    "ExecuteTime": {
     "end_time": "2021-08-27T16:39:52.698541Z",
     "start_time": "2021-08-27T16:39:52.364214Z"
    },
    "scrolled": false
   },
   "outputs": [],
   "source": [
    "data  = np.reshape(noise_TC, (1,1440))[0]\n",
    "plot2 = sns.displot(data, bins = 50, kde = True)\n",
    "plt.title(\"Histogram of Noise data for Time Courses  with \\n Sample mean: \"+ str(data.mean()) + \"\\n Sample Standard deviation: \" + str(data.std()))"
   ]
  },
  {
   "cell_type": "code",
   "execution_count": null,
   "id": "32aa5c2a",
   "metadata": {},
   "outputs": [],
   "source": []
  },
  {
   "cell_type": "markdown",
   "id": "ee0383f3",
   "metadata": {},
   "source": [
    "### Yes, the mean and standard deviations are roughly following the normal distribution with parameters specified."
   ]
  },
  {
   "cell_type": "code",
   "execution_count": null,
   "id": "8c0085a4",
   "metadata": {
    "ExecuteTime": {
     "end_time": "2021-08-27T15:58:52.354738Z",
     "start_time": "2021-08-27T15:58:52.341843Z"
    }
   },
   "outputs": [],
   "source": [
    "product = np.matmul(noise_TC.transpose(),noise_SM)"
   ]
  },
  {
   "cell_type": "markdown",
   "id": "66ee2bc4",
   "metadata": {},
   "source": [
    "## Correlation between $\\Gamma_s\\Gamma_t$ aross $V$ number of variables"
   ]
  },
  {
   "cell_type": "code",
   "execution_count": null,
   "id": "5ecb6629",
   "metadata": {
    "ExecuteTime": {
     "end_time": "2021-08-27T15:58:52.370701Z",
     "start_time": "2021-08-27T15:58:52.357705Z"
    }
   },
   "outputs": [],
   "source": [
    "product = np.matmul(noise_TC.transpose(),noise_SM)\n",
    "print(product.shape)"
   ]
  },
  {
   "cell_type": "code",
   "execution_count": null,
   "id": "ff7adef1",
   "metadata": {
    "ExecuteTime": {
     "end_time": "2021-08-27T16:02:29.323518Z",
     "start_time": "2021-08-27T16:02:29.313687Z"
    },
    "scrolled": true
   },
   "outputs": [],
   "source": [
    "import time\n",
    "rng = np.random.default_rng(int(time.time()))\n",
    "index_random_selected = rng.integers(low=0, high=441,size = 20)\n",
    "print(index_random_selected)"
   ]
  },
  {
   "cell_type": "markdown",
   "id": "da67434e",
   "metadata": {},
   "source": [
    "## We choose the random $\\Gamma_s \\Gamma_t$ across 20 variables"
   ]
  },
  {
   "cell_type": "code",
   "execution_count": null,
   "id": "af61566c",
   "metadata": {
    "ExecuteTime": {
     "end_time": "2021-08-27T16:02:31.512615Z",
     "start_time": "2021-08-27T16:02:30.993500Z"
    },
    "scrolled": false
   },
   "outputs": [],
   "source": [
    "plot = plt.figure(figsize=(12,10))\n",
    "result = np.corrcoef(np.array(product.T[index_random_selected]))\n",
    "plt.title(\"Heatmap of Correlation Matrix for cross-term noise across 20 randomly chosen variables \")\n",
    "heatmap  = sns.heatmap(abs(result), annot=False,yticklabels=index_random_selected, xticklabels = index_random_selected,cmap=\"YlGnBu\" )"
   ]
  },
  {
   "cell_type": "markdown",
   "id": "2311a2aa",
   "metadata": {},
   "source": [
    "## From the Heatmap of the correlation matrix, we can see that in general $\\Gamma_s\\Gamma_t$ are moderately correlated either negatively or positively across the $V$ number of variables. This corresponds to the fact that $\\Gamma_s\\Gamma_t$ is generated by the matrix multiplication between $\\Gamma_s$ and $\\Gamma_t$"
   ]
  },
  {
   "cell_type": "markdown",
   "id": "96e5fcaa",
   "metadata": {},
   "source": [
    "## 1.5"
   ]
  },
  {
   "cell_type": "code",
   "execution_count": null,
   "id": "951d4445",
   "metadata": {
    "ExecuteTime": {
     "end_time": "2021-08-27T16:02:32.492678Z",
     "start_time": "2021-08-27T16:02:32.482132Z"
    }
   },
   "outputs": [],
   "source": [
    "data_frame_time_courses.shape"
   ]
  },
  {
   "cell_type": "code",
   "execution_count": null,
   "id": "49f3c1de",
   "metadata": {
    "ExecuteTime": {
     "end_time": "2021-08-27T16:02:32.982694Z",
     "start_time": "2021-08-27T16:02:32.968665Z"
    }
   },
   "outputs": [],
   "source": [
    "noise_TC.transpose().shape"
   ]
  },
  {
   "cell_type": "code",
   "execution_count": null,
   "id": "04de2bca",
   "metadata": {
    "ExecuteTime": {
     "end_time": "2021-08-27T16:02:33.464568Z",
     "start_time": "2021-08-27T16:02:33.452567Z"
    }
   },
   "outputs": [],
   "source": [
    "print(SMs.shape)\n",
    "print(noise_SM.shape)"
   ]
  },
  {
   "cell_type": "code",
   "execution_count": null,
   "id": "0abeffd7",
   "metadata": {
    "ExecuteTime": {
     "end_time": "2021-08-27T16:02:33.763265Z",
     "start_time": "2021-08-27T16:02:33.749263Z"
    }
   },
   "outputs": [],
   "source": [
    "X = np.matmul((data_frame_time_courses + noise_TC.transpose()),(SMs + noise_SM)) \\\n",
    "#- np.matmul(data_frame_time_courses, noise_SM) - np.matmul(noise_TC.transpose(), SMs) \n",
    "print(X.shape)"
   ]
  },
  {
   "cell_type": "markdown",
   "id": "b9b9118a",
   "metadata": {},
   "source": [
    "# Random Time Series Visualization with 105 random time series choosen"
   ]
  },
  {
   "cell_type": "code",
   "execution_count": null,
   "id": "7a48ddcf",
   "metadata": {
    "ExecuteTime": {
     "end_time": "2021-08-27T16:02:34.800508Z",
     "start_time": "2021-08-27T16:02:34.789507Z"
    }
   },
   "outputs": [],
   "source": [
    "import time\n",
    "rng = np.random.default_rng(int(time.time()))\n",
    "index_random_selected = rng.integers(low=0, high=441,size = 105)\n",
    "print(index_random_selected)"
   ]
  },
  {
   "cell_type": "code",
   "execution_count": null,
   "id": "45e0f100",
   "metadata": {
    "ExecuteTime": {
     "end_time": "2021-08-27T16:02:35.731502Z",
     "start_time": "2021-08-27T16:02:35.308523Z"
    },
    "scrolled": false
   },
   "outputs": [],
   "source": [
    "x  =[ i + 1 for i in range(0,240)]\n",
    "fig = plt.figure(figsize = (20,8))\n",
    "plt.title(\"105 Random Selected Time series Visualisation\")\n",
    "plot = plt.plot(x, X[index_random_selected],label = [\"X \" +str(i) for i in index_random_selected])"
   ]
  },
  {
   "cell_type": "markdown",
   "id": "c6ae339a",
   "metadata": {},
   "source": [
    "# Visualization of variances in the histogram for 441 variables"
   ]
  },
  {
   "cell_type": "code",
   "execution_count": null,
   "id": "da4fc285",
   "metadata": {
    "ExecuteTime": {
     "end_time": "2021-08-27T16:02:36.913557Z",
     "start_time": "2021-08-27T16:02:36.230523Z"
    }
   },
   "outputs": [],
   "source": [
    "std_441 = np.array(X.describe())[2]\n"
   ]
  },
  {
   "cell_type": "markdown",
   "id": "d4238c3c",
   "metadata": {},
   "source": [
    "### Variance"
   ]
  },
  {
   "cell_type": "code",
   "execution_count": null,
   "id": "99e4745d",
   "metadata": {
    "ExecuteTime": {
     "end_time": "2021-08-27T16:02:37.905492Z",
     "start_time": "2021-08-27T16:02:37.658185Z"
    },
    "scrolled": false
   },
   "outputs": [],
   "source": [
    "x = [i + 1 for i in range(441)]\n",
    "plot = plt.figure(figsize=(15,10))\n",
    "plt.title(\"The variances of 441 variables in X\")\n",
    "var_441 =  [ i*i  for i in std_441]\n",
    "plt.plot(x, var_441)"
   ]
  },
  {
   "cell_type": "code",
   "execution_count": null,
   "id": "9e21b36a",
   "metadata": {
    "ExecuteTime": {
     "end_time": "2021-08-27T16:02:38.881475Z",
     "start_time": "2021-08-27T16:02:38.520495Z"
    }
   },
   "outputs": [],
   "source": [
    "var_441 =  [ i*i  for i in std_441]\n",
    "sns.displot(var_441, bins = 100, kde = True)"
   ]
  },
  {
   "cell_type": "markdown",
   "id": "ab68976c",
   "metadata": {},
   "source": [
    "### Standard Deviation"
   ]
  },
  {
   "cell_type": "code",
   "execution_count": null,
   "id": "42a6d6c7",
   "metadata": {
    "ExecuteTime": {
     "end_time": "2021-08-27T16:02:39.951046Z",
     "start_time": "2021-08-27T16:02:39.403010Z"
    },
    "scrolled": false
   },
   "outputs": [],
   "source": [
    "sns.displot(std_441, bins = 25, kde = True)"
   ]
  },
  {
   "attachments": {},
   "cell_type": "markdown",
   "id": "0126cce1",
   "metadata": {},
   "source": [
    "### These terms can exist when creating the synthetic dataset, but when we are trying to fit the model described in the equation (1), we ignore the existence of these cross terms and the effect of these terms are fitted within $A$ in the model, this can be shown in the later plots of retrieved spatial maps where the noise data are very conspicuous. \n",
    "\n",
    "\n",
    "### From the plot of the variances of 441 variables, we can see that the empirical distribution is bimodal, which is correspond to the number of noise terms we add when creating the synthetic dataset."
   ]
  },
  {
   "cell_type": "markdown",
   "id": "61385da3",
   "metadata": {},
   "source": [
    "## Standardizing the dataset X"
   ]
  },
  {
   "cell_type": "code",
   "execution_count": null,
   "id": "2c1c2031",
   "metadata": {
    "ExecuteTime": {
     "end_time": "2021-08-27T16:02:43.424269Z",
     "start_time": "2021-08-27T16:02:43.052158Z"
    }
   },
   "outputs": [],
   "source": [
    "Standardized_X  = X.copy()\n",
    "for column in X.columns:\n",
    "    Standardized_X[column] = (X[column] - X[column].mean())/X[column].std()\n"
   ]
  },
  {
   "cell_type": "markdown",
   "id": "a38d32c1",
   "metadata": {},
   "source": [
    "# Question 2"
   ]
  },
  {
   "cell_type": "markdown",
   "id": "4231a806",
   "metadata": {},
   "source": [
    "## 2.1"
   ]
  },
  {
   "cell_type": "code",
   "execution_count": null,
   "id": "7b45655d",
   "metadata": {
    "ExecuteTime": {
     "end_time": "2021-08-27T16:02:51.940973Z",
     "start_time": "2021-08-27T16:02:51.930743Z"
    }
   },
   "outputs": [],
   "source": [
    "DTD = np.matmul(data_frame_time_courses.transpose(),data_frame_time_courses)\n",
    "DT_standardised_X = np.matmul(data_frame_time_courses.transpose(),Standardized_X)"
   ]
  },
  {
   "cell_type": "code",
   "execution_count": null,
   "id": "846c656c",
   "metadata": {
    "ExecuteTime": {
     "end_time": "2021-08-27T16:02:52.781515Z",
     "start_time": "2021-08-27T16:02:52.768516Z"
    }
   },
   "outputs": [],
   "source": [
    "Standardized_X.shape"
   ]
  },
  {
   "cell_type": "code",
   "execution_count": null,
   "id": "1d0de9d6",
   "metadata": {
    "ExecuteTime": {
     "end_time": "2021-08-27T16:02:53.581482Z",
     "start_time": "2021-08-27T16:02:53.552455Z"
    }
   },
   "outputs": [],
   "source": [
    "DTD"
   ]
  },
  {
   "cell_type": "code",
   "execution_count": null,
   "id": "5b8dd1aa",
   "metadata": {
    "ExecuteTime": {
     "end_time": "2021-08-27T16:02:54.585510Z",
     "start_time": "2021-08-27T16:02:54.573514Z"
    }
   },
   "outputs": [],
   "source": [
    "A_LSR = np.matmul(np.linalg.inv(DTD), DT_standardised_X)"
   ]
  },
  {
   "cell_type": "code",
   "execution_count": null,
   "id": "5d378c46",
   "metadata": {
    "ExecuteTime": {
     "end_time": "2021-08-27T16:02:56.051395Z",
     "start_time": "2021-08-27T16:02:56.039396Z"
    }
   },
   "outputs": [],
   "source": [
    "A_LSR = abs(A_LSR)"
   ]
  },
  {
   "cell_type": "code",
   "execution_count": null,
   "id": "718fd8f6",
   "metadata": {
    "ExecuteTime": {
     "end_time": "2021-08-27T16:02:56.951502Z",
     "start_time": "2021-08-27T16:02:56.938503Z"
    }
   },
   "outputs": [],
   "source": [
    "D_LSR  = np.matmul(Standardized_X,A_LSR.transpose())"
   ]
  },
  {
   "cell_type": "code",
   "execution_count": null,
   "id": "95e0f316",
   "metadata": {
    "ExecuteTime": {
     "end_time": "2021-08-27T16:02:58.460378Z",
     "start_time": "2021-08-27T16:02:58.429492Z"
    },
    "scrolled": false
   },
   "outputs": [],
   "source": [
    "D_LSR"
   ]
  },
  {
   "cell_type": "code",
   "execution_count": null,
   "id": "3f2c3bbf",
   "metadata": {
    "ExecuteTime": {
     "end_time": "2021-08-27T16:03:00.907633Z",
     "start_time": "2021-08-27T16:02:59.443503Z"
    },
    "scrolled": false
   },
   "outputs": [],
   "source": [
    "x = [i+1 for i in range(0,240)]\n",
    "name_list = [\"TC1\",\"TC2\",\"TC3\",\"TC4\",\"TC5\",\"TC6\"]\n",
    "for name, index in zip(name_list, [i for i in range(6)]):\n",
    "    fig = plt.figure(figsize = (10,5))\n",
    "    plt.title(r\"Retrieved Time Courses: \" + name)\n",
    "    plot = plt.plot(x, D_LSR[index])\n",
    "    "
   ]
  },
  {
   "cell_type": "code",
   "execution_count": null,
   "id": "995cf16a",
   "metadata": {
    "ExecuteTime": {
     "end_time": "2021-08-27T16:03:10.225386Z",
     "start_time": "2021-08-27T16:03:01.928261Z"
    },
    "scrolled": false
   },
   "outputs": [],
   "source": [
    "x = [i+1 for i in range(0,21)]\n",
    "y  = [i+1 for i in range(0,240)]\n",
    "name_list = [\"SM1\",\"SM2\",\"SM3\",\"SM4\",\"SM5\",\"SM6\"]\n",
    "for name, index in zip(name_list, [i for i in range(6)]):\n",
    "    fig, (ax1,ax2) = plt.subplots(1,2,figsize = (16,6))\n",
    "    #fig.suptitle(r\"Using the LSR, Visualisation of Retrieved Spatial Maps and Temporal Courses\")\n",
    "    one_map = np.reshape(np.array(A_LSR.iloc[index,:]), (21,21)).transpose()\n",
    "    ax2.set_title(\"Retrieved SP\" + str(index+1))\n",
    "    sns.heatmap(one_map,ax = ax2,yticklabels=x,xticklabels=x)\n",
    "    ax1.plot(y, D_LSR[index])\n",
    "    ax1.set_title(\"Retrieved TC\" + str(index+1))\n",
    "    fig.show()"
   ]
  },
  {
   "cell_type": "markdown",
   "id": "c433d4e1",
   "metadata": {},
   "source": [
    "## Scatter plot between 30th Columns of Standardized X and 3rd Column of D_LSR"
   ]
  },
  {
   "cell_type": "code",
   "execution_count": null,
   "id": "15ea2484",
   "metadata": {
    "ExecuteTime": {
     "end_time": "2021-08-27T16:11:06.698813Z",
     "start_time": "2021-08-27T16:11:06.468446Z"
    },
    "scrolled": false
   },
   "outputs": [],
   "source": [
    "plt.title(\"Scatter plot between 30th Columns of Standardized X and 3rd Column of D_LSR\")\n",
    "plt.ylabel(\"D LSR\")\n",
    "plt.xlabel(\"Standardized X\")\n",
    "plot  = plt.scatter(Standardized_X[29],D_LSR[2])\n",
    "\n"
   ]
  },
  {
   "cell_type": "code",
   "execution_count": null,
   "id": "2bc54f1f",
   "metadata": {
    "ExecuteTime": {
     "end_time": "2021-08-27T16:03:12.512624Z",
     "start_time": "2021-08-27T16:03:12.498623Z"
    }
   },
   "outputs": [],
   "source": [
    "np.corrcoef(Standardized_X[29],D_LSR[2])"
   ]
  },
  {
   "cell_type": "markdown",
   "id": "8b7c2a2d",
   "metadata": {
    "ExecuteTime": {
     "end_time": "2021-08-23T03:34:57.370703Z",
     "start_time": "2021-08-23T03:34:57.359703Z"
    }
   },
   "source": [
    "## Scatter plot between 30th Columns of Standardized X and 4rd Column of D_LSR"
   ]
  },
  {
   "cell_type": "code",
   "execution_count": null,
   "id": "d069bc58",
   "metadata": {
    "ExecuteTime": {
     "end_time": "2021-08-27T16:11:23.890795Z",
     "start_time": "2021-08-27T16:11:23.685129Z"
    },
    "scrolled": false
   },
   "outputs": [],
   "source": [
    "plt.title(\"Scatter plot between 30th Columns of Standardized X and 4rd Column of D_LSR\")\n",
    "plt.ylabel(\"D LSR\")\n",
    "plt.xlabel(\"Standardized X\")\n",
    "plt.scatter(Standardized_X[29],D_LSR[3])"
   ]
  },
  {
   "cell_type": "code",
   "execution_count": null,
   "id": "124437ed",
   "metadata": {
    "ExecuteTime": {
     "end_time": "2021-08-27T16:03:16.408628Z",
     "start_time": "2021-08-27T16:03:16.395642Z"
    }
   },
   "outputs": [],
   "source": [
    "np.corrcoef(Standardized_X[29],D_LSR[3])"
   ]
  },
  {
   "cell_type": "markdown",
   "id": "1bb9db8b",
   "metadata": {},
   "source": [
    "### Only the third temporal source contributed to the value of this element on the spatial map as only the third spatial map turn out to be 1 at this pixel value, which will preserve the effect from the temporal sources after taking the dot product in the matrix multiplication. "
   ]
  },
  {
   "cell_type": "markdown",
   "id": "beaf671a",
   "metadata": {},
   "source": [
    "## 2.2"
   ]
  },
  {
   "cell_type": "code",
   "execution_count": null,
   "id": "c0361b85",
   "metadata": {
    "ExecuteTime": {
     "end_time": "2021-08-28T04:17:13.898885Z",
     "start_time": "2021-08-28T04:17:13.868885Z"
    }
   },
   "outputs": [],
   "source": [
    "A_LSR.head()"
   ]
  },
  {
   "cell_type": "code",
   "execution_count": null,
   "id": "00c769fe",
   "metadata": {
    "ExecuteTime": {
     "end_time": "2021-08-28T04:17:14.878884Z",
     "start_time": "2021-08-28T04:17:14.849884Z"
    }
   },
   "outputs": [],
   "source": [
    "# Generate the possible values for lambda\n",
    "lambda_values = np.linspace(0,1,10000)*441"
   ]
  },
  {
   "cell_type": "code",
   "execution_count": null,
   "id": "0aecc81e",
   "metadata": {
    "ExecuteTime": {
     "end_time": "2021-08-28T04:20:09.392004Z",
     "start_time": "2021-08-28T04:17:15.742885Z"
    }
   },
   "outputs": [],
   "source": [
    "# storing the MSE results for differernt lambda values\n",
    "identity_matrix = np.identity(6)\n",
    "MSE_results = []\n",
    "for values in lambda_values: \n",
    "    A_RR = np.matmul(np.linalg.inv(DTD + values*identity_matrix),DT_standardised_X)\n",
    "    D_RR = np.matmul(Standardized_X,A_RR.transpose())\n",
    "    X_hat = np.matmul(D_RR, A_RR)\n",
    "    MSE = mean_squared_error(Standardized_X, X_hat)\n",
    "    MSE_results.append(MSE)\n",
    "MSE_results = np.array(MSE_results)"
   ]
  },
  {
   "cell_type": "code",
   "execution_count": null,
   "id": "0ceefb2a",
   "metadata": {
    "ExecuteTime": {
     "end_time": "2021-08-28T04:20:11.149123Z",
     "start_time": "2021-08-28T04:20:10.977123Z"
    }
   },
   "outputs": [],
   "source": [
    "#Plot the graph of MSE against Lambda values.\n",
    "plt.plot(lambda_values, MSE_results, color =\"blue\")\n",
    "plt.show()"
   ]
  },
  {
   "cell_type": "code",
   "execution_count": null,
   "id": "c5b2eabf",
   "metadata": {
    "ExecuteTime": {
     "end_time": "2021-08-28T04:24:44.335261Z",
     "start_time": "2021-08-28T04:24:44.321265Z"
    }
   },
   "outputs": [],
   "source": [
    "# Choose the optimal value that minimize the value of MSE\n",
    "optimal_lambda = lambda_values[np.argmin(MSE_results)]\n",
    "print(optimal_lambda)"
   ]
  },
  {
   "cell_type": "code",
   "execution_count": null,
   "id": "8945cd49",
   "metadata": {
    "ExecuteTime": {
     "end_time": "2021-08-28T04:20:13.289121Z",
     "start_time": "2021-08-28T04:20:13.276121Z"
    }
   },
   "outputs": [],
   "source": [
    "# Generate the best A_RR and D_RR and X_hat\n",
    "A_RR = np.matmul(np.linalg.inv(DTD + optimal_lambda*identity_matrix),DT_standardised_X)\n",
    "D_RR = np.matmul(Standardized_X,A_RR.transpose())\n",
    "X_hat = np.matmul(D_RR, A_RR)"
   ]
  },
  {
   "cell_type": "code",
   "execution_count": null,
   "id": "df1aaa7e",
   "metadata": {
    "ExecuteTime": {
     "end_time": "2021-08-28T04:20:14.412156Z",
     "start_time": "2021-08-28T04:20:14.400156Z"
    }
   },
   "outputs": [],
   "source": [
    "corr_result_LSR = []\n",
    "for i in range(6):\n",
    "    correction = abs(np.corrcoef(D_LSR[i], np.array(data_frame_time_courses.iloc[:,i]))[1,0])\n",
    "    corr_result_LSR.append(correction)\n",
    "corr_result_LSR"
   ]
  },
  {
   "cell_type": "code",
   "execution_count": null,
   "id": "b07e9ef6",
   "metadata": {
    "ExecuteTime": {
     "end_time": "2021-08-28T04:20:15.499156Z",
     "start_time": "2021-08-28T04:20:15.485156Z"
    }
   },
   "outputs": [],
   "source": [
    "corr_result_RR = []\n",
    "for i in range(6):\n",
    "    correction = abs(np.corrcoef(D_RR[i], np.array(data_frame_time_courses.iloc[:,i]))[1,0])\n",
    "    corr_result_RR.append(correction)\n",
    "corr_result_RR"
   ]
  },
  {
   "cell_type": "code",
   "execution_count": null,
   "id": "e1b41d43",
   "metadata": {
    "ExecuteTime": {
     "end_time": "2021-08-28T04:20:57.665194Z",
     "start_time": "2021-08-28T04:20:57.646194Z"
    }
   },
   "outputs": [],
   "source": [
    "print(sum(corr_result_LSR) < sum(corr_result_RR))\n"
   ]
  },
  {
   "cell_type": "code",
   "execution_count": null,
   "id": "3642a06c",
   "metadata": {
    "ExecuteTime": {
     "end_time": "2021-08-28T04:20:17.867190Z",
     "start_time": "2021-08-28T04:20:17.853179Z"
    }
   },
   "outputs": [],
   "source": [
    "print(\"LSR:\")\n",
    "print(sum(corr_result_LSR))\n",
    "print(\"RR:\")\n",
    "print(sum(corr_result_RR))"
   ]
  },
  {
   "cell_type": "markdown",
   "id": "cf2ad61e",
   "metadata": {},
   "source": [
    "# Plot the graphs of respective first vectors from $A_{RR}$ and $A_{LSR}$, when $\\lambda = 1000$"
   ]
  },
  {
   "cell_type": "code",
   "execution_count": null,
   "id": "f01015b3",
   "metadata": {
    "ExecuteTime": {
     "end_time": "2021-08-27T07:41:06.368444Z",
     "start_time": "2021-08-27T07:41:06.350448Z"
    }
   },
   "outputs": [],
   "source": [
    "A_RR_1000 = np.matmul(np.linalg.inv(DTD + 1000*441*identity_matrix),DT_standardised_X)\n",
    "D_RR_1000 = np.matmul(Standardized_X,A_RR.transpose())\n",
    "X_hat_1000 = np.matmul(D_RR, A_RR)"
   ]
  },
  {
   "cell_type": "code",
   "execution_count": null,
   "id": "8dca8ddf",
   "metadata": {
    "ExecuteTime": {
     "end_time": "2021-08-27T07:41:06.383444Z",
     "start_time": "2021-08-27T07:41:06.371447Z"
    }
   },
   "outputs": [],
   "source": [
    "x = [i + 1 for i in range(0,21)]"
   ]
  },
  {
   "cell_type": "code",
   "execution_count": null,
   "id": "df5623ab",
   "metadata": {
    "ExecuteTime": {
     "end_time": "2021-08-27T07:41:07.010446Z",
     "start_time": "2021-08-27T07:41:06.386447Z"
    },
    "scrolled": false
   },
   "outputs": [],
   "source": [
    "plt.title(\"RR first Spatial map\")\n",
    "sns.heatmap(abs(np.reshape(np.array(A_RR_1000.iloc[0,:]),(21,21))),yticklabels=x,xticklabels=x)"
   ]
  },
  {
   "cell_type": "code",
   "execution_count": null,
   "id": "6fe3e569",
   "metadata": {
    "ExecuteTime": {
     "end_time": "2021-08-27T07:41:13.908445Z",
     "start_time": "2021-08-27T07:41:07.013447Z"
    },
    "scrolled": false
   },
   "outputs": [],
   "source": [
    "name_list = [\"SM1\",\"SM2\",\"SM3\",\"SM4\",\"SM5\",\"SM6\"]\n",
    "for i in range(6):\n",
    "    fig, (ax1,ax2) = plt.subplots(1,2,figsize = (16,6))\n",
    "    fig.suptitle(\"Comparsion of heatmaps of Spatial Maps between retrieved from RR and \"  +name_list[i])\n",
    "    sns.heatmap(np.reshape(SMs[i], (21,21)).transpose(),yticklabels=x,xticklabels=x,ax =ax1)\n",
    "    sns.heatmap(abs(np.reshape(np.array(A_RR_1000.iloc[i,:]),(21,21))).transpose(),yticklabels=x,xticklabels=x,ax =ax2)\n",
    "    fig.show()"
   ]
  },
  {
   "cell_type": "code",
   "execution_count": null,
   "id": "0cad28f8",
   "metadata": {
    "ExecuteTime": {
     "end_time": "2021-08-27T07:41:14.064444Z",
     "start_time": "2021-08-27T07:41:13.910449Z"
    }
   },
   "outputs": [],
   "source": [
    "plt.title(\"First Vector from A_RR\")\n",
    "plt.plot([i+1 for i in range(441)], np.array(A_RR_1000.iloc[0,:]))"
   ]
  },
  {
   "cell_type": "code",
   "execution_count": null,
   "id": "4112e96b",
   "metadata": {
    "ExecuteTime": {
     "end_time": "2021-08-27T07:41:14.556958Z",
     "start_time": "2021-08-27T07:41:14.066445Z"
    },
    "scrolled": false
   },
   "outputs": [],
   "source": [
    "plt.title(\"LSR first Spatial map\")\n",
    "sns.heatmap(np.reshape(np.array(A_LSR.iloc[0,:]),(21,21)),yticklabels=x,xticklabels=x)"
   ]
  },
  {
   "cell_type": "code",
   "execution_count": null,
   "id": "58cc92d6",
   "metadata": {
    "ExecuteTime": {
     "end_time": "2021-08-27T07:41:14.715959Z",
     "start_time": "2021-08-27T07:41:14.559959Z"
    }
   },
   "outputs": [],
   "source": [
    "plt.title(\"First Vector from A_LSR\")\n",
    "plt.plot([i+1 for i in range(441)], np.array(A_LSR.iloc[0,:]))"
   ]
  },
  {
   "cell_type": "markdown",
   "id": "08580565",
   "metadata": {},
   "source": [
    "## Yes, the pixel values of the spatial map from $A_{RR}$ are shrinking to zeros."
   ]
  },
  {
   "cell_type": "markdown",
   "id": "235888dc",
   "metadata": {},
   "source": [
    "## 2.3"
   ]
  },
  {
   "cell_type": "code",
   "execution_count": null,
   "id": "5bfc8b19",
   "metadata": {
    "ExecuteTime": {
     "end_time": "2021-08-28T04:42:23.220445Z",
     "start_time": "2021-08-28T04:42:23.086444Z"
    }
   },
   "outputs": [],
   "source": [
    "from sklearn import linear_model\n",
    "rou_values = np.linspace(0,1,21)\n",
    "print(rou_values)"
   ]
  },
  {
   "cell_type": "code",
   "execution_count": null,
   "id": "af1a38d3",
   "metadata": {
    "ExecuteTime": {
     "end_time": "2021-08-28T04:42:26.199440Z",
     "start_time": "2021-08-28T04:42:24.428443Z"
    }
   },
   "outputs": [],
   "source": [
    "MSE_LR_results = []\n",
    "A_LR_results = []\n",
    "D_LR_results = []\n",
    "for i in rou_values:\n",
    "    clf = linear_model.Lasso(alpha=i)\n",
    "    clf.fit(data_frame_time_courses, Standardized_X)\n",
    "    A_LR = clf.coef_.transpose()\n",
    "    D_LR = np.matmul(Standardized_X,A_LR.transpose())\n",
    "    MSE = mean_squared_error(Standardized_X, np.matmul(D_LR,A_LR))\n",
    "    A_LR_results.append(A_LR)\n",
    "    D_LR_results.append(D_LR)\n",
    "    MSE_LR_results.append(MSE)\n",
    "    "
   ]
  },
  {
   "cell_type": "code",
   "execution_count": null,
   "id": "213d58c4",
   "metadata": {
    "ExecuteTime": {
     "end_time": "2021-08-28T04:42:28.032444Z",
     "start_time": "2021-08-28T04:42:27.860443Z"
    }
   },
   "outputs": [],
   "source": [
    "plt.plot(rou_values, MSE_LR_results)"
   ]
  },
  {
   "cell_type": "code",
   "execution_count": null,
   "id": "fc7e597c",
   "metadata": {
    "ExecuteTime": {
     "end_time": "2021-08-28T04:42:52.234957Z",
     "start_time": "2021-08-28T04:42:29.534443Z"
    }
   },
   "outputs": [],
   "source": [
    "MSE_LR_10results =[]\n",
    "for k in range(10):\n",
    "    noise_TC = np.random.normal(loc = 0.0, scale = 0.5, size = (6, 240)) \n",
    "    noise_SM = np.random.normal(loc = 0.0, scale = math.sqrt(0.015), size = (6,441)) \n",
    "    X = np.matmul((data_frame_time_courses + noise_TC.transpose()),(SMs + noise_SM))\n",
    "    for column in X.columns:\n",
    "        Standardized_X[column] = (X[column] - X[column].mean())/X[column].std()\n",
    "    \n",
    "    MSE_LR_results = []\n",
    "    for i in rou_values:\n",
    "        clf = linear_model.Lasso(alpha=i)\n",
    "        clf.fit(data_frame_time_courses, Standardized_X)\n",
    "        A_LR = clf.coef_.transpose()\n",
    "        D_LR = np.matmul(Standardized_X,A_LR.transpose())\n",
    "        MSE = mean_squared_error(Standardized_X, np.matmul(D_LR,A_LR))\n",
    "        A_LR_results.append(A_LR)\n",
    "        D_LR_results.append(D_LR)\n",
    "        MSE_LR_results.append(MSE)\n",
    "    MSE_LR_10results.append(MSE_LR_results)\n",
    "\n",
    "    "
   ]
  },
  {
   "cell_type": "code",
   "execution_count": null,
   "id": "6fd9ff85",
   "metadata": {
    "ExecuteTime": {
     "end_time": "2021-08-28T04:42:58.621958Z",
     "start_time": "2021-08-28T04:42:58.607957Z"
    }
   },
   "outputs": [],
   "source": [
    "MSE_LR_10results_T = np.array(MSE_LR_10results).transpose()\n",
    "  "
   ]
  },
  {
   "cell_type": "code",
   "execution_count": null,
   "id": "6634849a",
   "metadata": {
    "ExecuteTime": {
     "end_time": "2021-08-28T04:43:04.659508Z",
     "start_time": "2021-08-28T04:43:04.645509Z"
    },
    "scrolled": true
   },
   "outputs": [],
   "source": [
    "Mean_MSE_results_for_10 = []\n",
    "for i in range(21):\n",
    "    Mean_MSE_results_for_10.append(MSE_LR_10results_T[i].mean())\n",
    " "
   ]
  },
  {
   "cell_type": "code",
   "execution_count": null,
   "id": "e1aeb4a4",
   "metadata": {
    "ExecuteTime": {
     "end_time": "2021-08-28T04:43:11.369509Z",
     "start_time": "2021-08-28T04:43:11.197510Z"
    },
    "scrolled": false
   },
   "outputs": [],
   "source": [
    "plt.title(\" Average of MSE over these 10 realizations against each value of ρ\")\n",
    "plt.plot(rou_values,Mean_MSE_results_for_10)"
   ]
  },
  {
   "cell_type": "markdown",
   "id": "aa56d117",
   "metadata": {},
   "source": [
    "# Too see the turning point much clear, we apply the log transformation here"
   ]
  },
  {
   "cell_type": "code",
   "execution_count": null,
   "id": "5a01c1ce",
   "metadata": {
    "ExecuteTime": {
     "end_time": "2021-08-28T04:43:17.703980Z",
     "start_time": "2021-08-28T04:43:17.548981Z"
    },
    "scrolled": false
   },
   "outputs": [],
   "source": [
    "plt.title(\" Average of MSE over these 10 realizations against each value of ρ after the log transformation\")\n",
    "plt.plot(rou_values,[math.log(i) for i in Mean_MSE_results_for_10])"
   ]
  },
  {
   "cell_type": "code",
   "execution_count": null,
   "id": "dcfaaa63",
   "metadata": {
    "ExecuteTime": {
     "end_time": "2021-08-28T04:43:23.836908Z",
     "start_time": "2021-08-28T04:43:23.823907Z"
    }
   },
   "outputs": [],
   "source": [
    "optimal_rou_value = rou_values[np.argmin(Mean_MSE_results_for_10)]\n",
    "print(optimal_rou_value)"
   ]
  },
  {
   "cell_type": "markdown",
   "id": "447d108e",
   "metadata": {},
   "source": [
    "### The $\\rho$ value found in this case is 0.7000 which minimize the MSE after 10 realizations, this result, in general, should be quite reliable as it is obtained upon 10 times of different realizations of noise sources."
   ]
  },
  {
   "cell_type": "markdown",
   "id": "d2a9e127",
   "metadata": {},
   "source": [
    "## 2.4"
   ]
  },
  {
   "cell_type": "code",
   "execution_count": null,
   "id": "0c831b72",
   "metadata": {
    "ExecuteTime": {
     "end_time": "2021-08-28T04:43:30.068971Z",
     "start_time": "2021-08-28T04:43:30.023981Z"
    }
   },
   "outputs": [],
   "source": [
    "clf = linear_model.Lasso(alpha=optimal_rou_value)\n",
    "clf.fit(data_frame_time_courses, Standardized_X)\n",
    "A_LR = clf.coef_.transpose()\n",
    "D_LR = np.matmul(Standardized_X,A_LR.transpose())"
   ]
  },
  {
   "cell_type": "code",
   "execution_count": null,
   "id": "36f5ef20",
   "metadata": {
    "ExecuteTime": {
     "end_time": "2021-08-28T04:44:47.503989Z",
     "start_time": "2021-08-28T04:44:47.492990Z"
    }
   },
   "outputs": [],
   "source": [
    "print(A_LR.shape)\n",
    "print(D_LR.shape)"
   ]
  },
  {
   "cell_type": "markdown",
   "id": "331c0034",
   "metadata": {},
   "source": [
    "## Estimate the correlation vectors"
   ]
  },
  {
   "cell_type": "markdown",
   "id": "859c973e",
   "metadata": {},
   "source": [
    "### For RR:"
   ]
  },
  {
   "cell_type": "code",
   "execution_count": null,
   "id": "9547a92c",
   "metadata": {
    "ExecuteTime": {
     "end_time": "2021-08-28T04:43:42.198903Z",
     "start_time": "2021-08-28T04:43:42.184905Z"
    },
    "scrolled": true
   },
   "outputs": [],
   "source": [
    "corr_result_RR_D = []\n",
    "for i in range(6):\n",
    "    correction = abs(np.corrcoef(D_RR[i], np.array(data_frame_time_courses.iloc[:,i]))[1,0])\n",
    "    corr_result_RR_D.append(correction)\n",
    "corr_result_RR_D"
   ]
  },
  {
   "cell_type": "code",
   "execution_count": null,
   "id": "a0f4bae2",
   "metadata": {
    "ExecuteTime": {
     "end_time": "2021-08-28T04:43:48.397904Z",
     "start_time": "2021-08-28T04:43:48.383903Z"
    }
   },
   "outputs": [],
   "source": [
    "corr_result_RR_A = []\n",
    "for i in range(6):\n",
    "    correction = abs(np.corrcoef(A_RR.iloc[i,:], np.array(SMs[i]))[1,0])\n",
    "    corr_result_RR_A.append(correction)\n",
    "corr_result_RR_A"
   ]
  },
  {
   "cell_type": "markdown",
   "id": "4c2e3c33",
   "metadata": {
    "ExecuteTime": {
     "end_time": "2021-08-25T08:42:25.626556Z",
     "start_time": "2021-08-25T08:42:25.622559Z"
    }
   },
   "source": [
    "### For LR:"
   ]
  },
  {
   "cell_type": "code",
   "execution_count": null,
   "id": "2c2bd0b1",
   "metadata": {
    "ExecuteTime": {
     "end_time": "2021-08-28T04:43:54.434904Z",
     "start_time": "2021-08-28T04:43:54.420904Z"
    }
   },
   "outputs": [],
   "source": [
    "corr_result_LR_D = []\n",
    "for i in range(6):\n",
    "    correction = abs(np.corrcoef(D_LR[i], np.array(data_frame_time_courses.iloc[:,i]))[1,0])\n",
    "    corr_result_LR_D.append(correction)\n",
    "corr_result_LR_D"
   ]
  },
  {
   "cell_type": "code",
   "execution_count": null,
   "id": "b71af1fc",
   "metadata": {
    "ExecuteTime": {
     "end_time": "2021-08-28T04:44:00.704749Z",
     "start_time": "2021-08-28T04:44:00.690749Z"
    }
   },
   "outputs": [],
   "source": [
    "corr_result_LR_A = []\n",
    "for i in range(6):\n",
    "    correction = abs(np.corrcoef(A_LR[i], np.array(SMs[i]))[1,0])\n",
    "    corr_result_LR_A.append(correction)\n",
    "corr_result_LR_A"
   ]
  },
  {
   "cell_type": "code",
   "execution_count": null,
   "id": "853e2802",
   "metadata": {
    "ExecuteTime": {
     "end_time": "2021-08-28T04:53:23.128887Z",
     "start_time": "2021-08-28T04:53:23.119889Z"
    }
   },
   "outputs": [],
   "source": [
    "print(sum(corr_result_LR_D) > sum(corr_result_RR_D))"
   ]
  },
  {
   "cell_type": "code",
   "execution_count": null,
   "id": "110db75a",
   "metadata": {
    "ExecuteTime": {
     "end_time": "2021-08-28T04:53:29.750888Z",
     "start_time": "2021-08-28T04:53:29.736888Z"
    }
   },
   "outputs": [],
   "source": [
    "print(sum(corr_result_LR_A) > sum(corr_result_RR_A))"
   ]
  },
  {
   "cell_type": "code",
   "execution_count": null,
   "id": "7f7193e1",
   "metadata": {
    "ExecuteTime": {
     "end_time": "2021-08-28T04:44:20.454303Z",
     "start_time": "2021-08-28T04:44:20.424305Z"
    },
    "scrolled": false
   },
   "outputs": [],
   "source": [
    "A_RR"
   ]
  },
  {
   "cell_type": "code",
   "execution_count": null,
   "id": "281938f5",
   "metadata": {
    "ExecuteTime": {
     "end_time": "2021-08-27T07:41:40.527519Z",
     "start_time": "2021-08-27T07:41:40.500522Z"
    }
   },
   "outputs": [],
   "source": [
    "D_RR"
   ]
  },
  {
   "cell_type": "code",
   "execution_count": null,
   "id": "449141de",
   "metadata": {
    "ExecuteTime": {
     "end_time": "2021-08-27T07:41:40.542520Z",
     "start_time": "2021-08-27T07:41:40.531521Z"
    }
   },
   "outputs": [],
   "source": [
    "print(D_LR)"
   ]
  },
  {
   "cell_type": "code",
   "execution_count": null,
   "id": "bb251a26",
   "metadata": {
    "ExecuteTime": {
     "end_time": "2021-08-27T07:41:40.573520Z",
     "start_time": "2021-08-27T07:41:40.546527Z"
    }
   },
   "outputs": [],
   "source": [
    "D_LR"
   ]
  },
  {
   "cell_type": "code",
   "execution_count": null,
   "id": "8ca27db9",
   "metadata": {
    "ExecuteTime": {
     "end_time": "2021-08-28T08:29:18.300350Z",
     "start_time": "2021-08-28T08:29:16.502364Z"
    },
    "scrolled": false
   },
   "outputs": [],
   "source": [
    "x = [i+1 for i in range(240)]\n",
    "for i in range(6):\n",
    "    fig, ax = plt.subplots(1,2, figsize = (16,6))\n",
    "    fig.suptitle(\"Comparsion between DLR \"  +str(i+1) +  \" and  DRR \" + str(i+1))\n",
    "    ax[0].plot(x,D_LR[i], color = \"orange\")\n",
    "    ax[1].plot(x,D_RR.iloc[:,i],color = \"red\")\n",
    "    ax[0].set_title(\"D LR \" + str(i+1))\n",
    "    ax[1].set_title(\"D RR \" + str(i + 1))\n",
    "    fig.show()"
   ]
  },
  {
   "cell_type": "code",
   "execution_count": null,
   "id": "83f6421d",
   "metadata": {
    "ExecuteTime": {
     "end_time": "2021-08-27T07:41:59.456562Z",
     "start_time": "2021-08-27T07:41:42.643836Z"
    },
    "scrolled": false
   },
   "outputs": [],
   "source": [
    "x = [i+1 for i in range(21)]\n",
    "for i in range(6):\n",
    "    fig, (ax1,ax2) = plt.subplots(1,2, figsize = (16,6))\n",
    "    fig.suptitle(\"Comparsion between A LR \"  +str(i+1) +  \" and  A RR \" + str(i+1))\n",
    "    sns.heatmap(abs(np.reshape(A_LR[i], (21,21))).transpose(),yticklabels=x,xticklabels=x,ax =ax1)\n",
    "    sns.heatmap(abs(np.reshape(np.array(A_RR)[i],(21,21))).transpose(),yticklabels = x, xticklabels = x,ax = ax2)\n",
    "    ax1.set_title(\"A LR \" + str(i+1))\n",
    "    ax2.set_title(\"A RR \" + str(i + 1))\n",
    "    fig.show()"
   ]
  },
  {
   "cell_type": "markdown",
   "id": "c96ba3a6",
   "metadata": {},
   "source": [
    "### In estimated A_LR, many pixel values are now equal to zero and the retrieved Spatial Map obtained from Lasso Regression are much clearer as the noise data we once added to the X has been filtered out to zero.\n",
    "### The direct result of this is that the number of false positive has been greatly reduced on the retrieved spatial map."
   ]
  },
  {
   "cell_type": "markdown",
   "id": "a8e17112",
   "metadata": {},
   "source": [
    "## 2.5"
   ]
  },
  {
   "cell_type": "code",
   "execution_count": null,
   "id": "517edb06",
   "metadata": {
    "ExecuteTime": {
     "end_time": "2021-08-28T08:24:30.800587Z",
     "start_time": "2021-08-28T08:24:30.786584Z"
    }
   },
   "outputs": [],
   "source": [
    "from sklearn.decomposition import PCA\n",
    "pca = PCA(n_components=6)\n",
    "PCs = pca.fit_transform(data_frame_time_courses)"
   ]
  },
  {
   "cell_type": "code",
   "execution_count": null,
   "id": "1beea312",
   "metadata": {
    "ExecuteTime": {
     "end_time": "2021-08-28T08:24:38.590105Z",
     "start_time": "2021-08-28T08:24:38.576113Z"
    },
    "scrolled": true
   },
   "outputs": [],
   "source": [
    "PCs2 =  np.matmul(data_frame_time_courses ,pca.components_.T)\n",
    "print(PCs2)"
   ]
  },
  {
   "cell_type": "code",
   "execution_count": null,
   "id": "94365fae",
   "metadata": {
    "ExecuteTime": {
     "end_time": "2021-08-28T08:25:03.041165Z",
     "start_time": "2021-08-28T08:25:03.027169Z"
    }
   },
   "outputs": [],
   "source": [
    "for i in range(6):\n",
    "    print(pca.components_[i])"
   ]
  },
  {
   "cell_type": "code",
   "execution_count": null,
   "id": "658af6f9",
   "metadata": {
    "ExecuteTime": {
     "end_time": "2021-08-28T08:25:11.897682Z",
     "start_time": "2021-08-28T08:25:11.883686Z"
    }
   },
   "outputs": [],
   "source": [
    "eigenvalues = pca.explained_variance_\n",
    "print(eigenvalues)"
   ]
  },
  {
   "cell_type": "code",
   "execution_count": null,
   "id": "790a03af",
   "metadata": {
    "ExecuteTime": {
     "end_time": "2021-08-28T08:25:32.395521Z",
     "start_time": "2021-08-28T08:25:32.137502Z"
    },
    "scrolled": false
   },
   "outputs": [],
   "source": [
    "x = [\"eigenvalue_1\",\"eigenvalue_2\",\"eigenvalue_3\",\"eigenvalue_4\",\"eigenvalue_5\",\"eigenvalue_6\"]\n",
    "fig = plt.figure(figsize = (10,5))\n",
    "plt.bar(x,eigenvalues)\n",
    "fig.autofmt_xdate()"
   ]
  },
  {
   "cell_type": "code",
   "execution_count": null,
   "id": "e79d2e8c",
   "metadata": {
    "ExecuteTime": {
     "end_time": "2021-08-28T08:07:05.004267Z",
     "start_time": "2021-08-28T08:07:02.892250Z"
    },
    "scrolled": false
   },
   "outputs": [],
   "source": [
    "x = [i+1 for i in range(240)]\n",
    "name_list = [\"TC1\",\"TC2\",\"TC3\",\"TC4\",\"TC5\",\"TC6\"]\n",
    "for i in range(6):\n",
    "    fig, ax = plt.subplots(1,2, figsize = (16,6))\n",
    "    fig.suptitle(\"Comparsion between regressor in Z and \"  + name_list[i])\n",
    "    ax[0].plot(x,PCs.T[i], color = \"orange\")\n",
    "    ax[1].plot(x,data_frame_time_courses.iloc[:,i],color = \"red\")\n",
    "    ax[0].set_title(\"Regressor \" + str(i + 1))\n",
    "    ax[1].set_title(name_list[i])\n",
    "    fig.show()"
   ]
  },
  {
   "cell_type": "code",
   "execution_count": null,
   "id": "9dc0d744",
   "metadata": {
    "ExecuteTime": {
     "end_time": "2021-08-28T08:07:14.941344Z",
     "start_time": "2021-08-28T08:07:14.866344Z"
    }
   },
   "outputs": [],
   "source": [
    "clf = linear_model.Lasso(alpha=0.001)\n",
    "clf.fit(PCs,Standardized_X)\n",
    "A_PCA = clf.coef_.transpose()\n",
    "D_PCA = np.matmul(Standardized_X,A_PCA.transpose())"
   ]
  },
  {
   "cell_type": "code",
   "execution_count": null,
   "id": "291e922e",
   "metadata": {
    "ExecuteTime": {
     "end_time": "2021-08-28T08:07:46.202230Z",
     "start_time": "2021-08-28T08:07:38.473218Z"
    },
    "scrolled": false
   },
   "outputs": [],
   "source": [
    "x = [i + 1 for i in range(21)]\n",
    "x_240 = [i + 1 for i in range(240)]\n",
    "name_list = [\"SM1\",\"SM2\",\"SM3\",\"SM4\",\"SM5\",\"SM6\"]\n",
    "for i in range(6):\n",
    "    fig, (ax1,ax2) = plt.subplots(1,2,figsize = (16,6))\n",
    "    fig.suptitle(\"Temporal Courses and Spatial Maps retrieved from PCA \" + name_list[i])\n",
    "    ax1.plot(x_240,D_PCA[i])\n",
    "    sns.heatmap(abs(np.reshape(np.array(A_PCA[i]),(21,21))).transpose(),yticklabels = x, xticklabels = x,ax = ax2)\n",
    "    fig.show()"
   ]
  },
  {
   "cell_type": "markdown",
   "id": "afb71867",
   "metadata": {
    "ExecuteTime": {
     "end_time": "2021-08-27T11:26:07.471645Z",
     "start_time": "2021-08-27T11:26:07.467643Z"
    }
   },
   "source": [
    "### The smallest eigenvalue we here is correspond to the last PC, which has the value of 0.15379429. From the plots of regressors in Z, the shapes of PCs are very distorted and unclear compared to the original TCs.   One possible for this shape lost is due to the procedure of Principle Component Analysis which captures the maximum variation along different TCs, only the components that are the most relevant to conserved in the regressors in Z after PCA."
   ]
  }
 ],
 "metadata": {
  "interpreter": {
   "hash": "27611f397dc410a3a97484b3246d717ea205c0fedb6864041b35f63538a7822f"
  },
  "kernelspec": {
   "display_name": "Python 3",
   "language": "python",
   "name": "python3"
  },
  "language_info": {
   "codemirror_mode": {
    "name": "ipython",
    "version": 3
   },
   "file_extension": ".py",
   "mimetype": "text/x-python",
   "name": "python",
   "nbconvert_exporter": "python",
   "pygments_lexer": "ipython3",
   "version": "3.8.8"
  },
  "varInspector": {
   "cols": {
    "lenName": 16,
    "lenType": 16,
    "lenVar": 40
   },
   "kernels_config": {
    "python": {
     "delete_cmd_postfix": "",
     "delete_cmd_prefix": "del ",
     "library": "var_list.py",
     "varRefreshCmd": "print(var_dic_list())"
    },
    "r": {
     "delete_cmd_postfix": ") ",
     "delete_cmd_prefix": "rm(",
     "library": "var_list.r",
     "varRefreshCmd": "cat(var_dic_list()) "
    }
   },
   "types_to_exclude": [
    "module",
    "function",
    "builtin_function_or_method",
    "instance",
    "_Feature"
   ],
   "window_display": false
  }
 },
 "nbformat": 4,
 "nbformat_minor": 5
}
