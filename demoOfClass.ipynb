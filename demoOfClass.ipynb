{
 "cells": [
  {
   "cell_type": "code",
   "execution_count": null,
   "source": [
    "import math\r\n",
    "class Good:\r\n",
    "    x = 0\r\n",
    "    y = 0\r\n",
    "    def __init__(self, i,j):\r\n",
    "        self.x = i\r\n",
    "        self.y = j\r\n",
    "\r\n",
    "    def distance(self, x, y):\r\n",
    "        return math.sqrt((self.x-x)**2 + (self.y - y)**2) \r\n",
    "\r\n",
    "    def check_outside_distance(self, max, x,y):\r\n",
    "        return self.distance(x,y) > max\r\n",
    "\r\n",
    "Good = Good(10,5)\r\n",
    "print(Good.check_outside_distance(100,0,0))"
   ],
   "outputs": [],
   "metadata": {}
  }
 ],
 "metadata": {
  "orig_nbformat": 4,
  "language_info": {
   "name": "python"
  }
 },
 "nbformat": 4,
 "nbformat_minor": 2
}