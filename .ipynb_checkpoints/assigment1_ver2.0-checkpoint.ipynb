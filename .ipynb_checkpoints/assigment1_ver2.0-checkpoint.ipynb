{
 "cells": [
  {
   "cell_type": "code",
   "execution_count": 1,
   "id": "58d74575",
   "metadata": {
    "ExecuteTime": {
     "end_time": "2021-08-25T17:35:40.182067Z",
     "start_time": "2021-08-25T17:35:37.628097Z"
    }
   },
   "outputs": [],
   "source": [
    "import pandas as pd\n",
    "import gc \n",
    "import warnings\n",
    "import numpy as np\n",
    "from datetime import timedelta\n",
    "warnings.filterwarnings(\"ignore\")\n",
    "import matplotlib.pyplot as plt\n",
    "from sklearn.preprocessing import StandardScaler\n",
    "from sklearn.metrics import mean_squared_error\n",
    "import seaborn as sns\n",
    "\n",
    "# import folium\n",
    "# from folium.plugins import FastMarkerCluster\n",
    "# from sklearn.cluster import KMeans\n",
    "# import geopandas as gpd\n",
    "# from bokeh.plotting import figure, show\n",
    "# from datetime import timedelta\n",
    "# from bokeh.tile_providers import get_provider, Vendors\n",
    "# from bokeh.io import save, reset_output, output_notebook\n",
    "# from pandas.plotting import parallel_coordinates\n",
    "# from math import log\n",
    "# import datetime as dt\n",
    "# from folium.plugins import HeatMap\n",
    "# from sklearn.preprocessing import KBinsDiscretizer\n",
    "# import sklearn.metrics as metrics"
   ]
  },
  {
   "cell_type": "markdown",
   "id": "aa820fed",
   "metadata": {},
   "source": [
    "# Question 1"
   ]
  },
  {
   "cell_type": "markdown",
   "id": "c7274371",
   "metadata": {},
   "source": [
    "## 1.1"
   ]
  },
  {
   "cell_type": "code",
   "execution_count": 2,
   "id": "63afce8d",
   "metadata": {
    "ExecuteTime": {
     "end_time": "2021-08-25T17:35:40.197122Z",
     "start_time": "2021-08-25T17:35:40.186069Z"
    }
   },
   "outputs": [],
   "source": [
    "N = 240"
   ]
  },
  {
   "cell_type": "code",
   "execution_count": 3,
   "id": "1abf805a",
   "metadata": {
    "ExecuteTime": {
     "end_time": "2021-08-25T17:35:40.213121Z",
     "start_time": "2021-08-25T17:35:40.200128Z"
    }
   },
   "outputs": [],
   "source": [
    "AV = [0,20,0,0,0,0]\n",
    "IV = [30,45,60,40,40,40]\n",
    "duration_of_ones =[15,20,25,15,20,25]"
   ]
  },
  {
   "cell_type": "code",
   "execution_count": 4,
   "id": "b3f9ce4c",
   "metadata": {
    "ExecuteTime": {
     "end_time": "2021-08-25T17:35:40.229122Z",
     "start_time": "2021-08-25T17:35:40.216122Z"
    }
   },
   "outputs": [],
   "source": [
    "# def TC_generator(index, N, AV, IV, duration_of_ones,debug_mode = 0):\n",
    "#     array = [ AV[index]  for i in range(0, N) ]\n",
    "#     array_2 =  [ array[i] + IV[index] if i%(duration_of_ones[index]*2) < duration_of_ones[index] else array[i] for i in range(0, N) ]\n",
    "#     if(debug_mode != 0):\n",
    "#         print(array)\n",
    "#         print(array_2)\n",
    "        \n",
    "#     return array_2"
   ]
  },
  {
   "cell_type": "code",
   "execution_count": 5,
   "id": "918b94f0",
   "metadata": {
    "ExecuteTime": {
     "end_time": "2021-08-25T17:35:40.244299Z",
     "start_time": "2021-08-25T17:35:40.232122Z"
    }
   },
   "outputs": [],
   "source": [
    "def TC_generator(index, N, AV, IV, duration_of_ones,debug_mode = 0):\n",
    "    array = [ 0 if i >= AV[index] else 0 for i in range(0, N)]\n",
    "    array_2 =  [1 if i >= AV[index] and (i - AV[index])%IV[index]  < duration_of_ones[index] else array[i] for  i in range(0, len(array))]\n",
    "    if(debug_mode != 0):\n",
    "        print(array)\n",
    "        print(array_2)\n",
    "        \n",
    "    return array_2"
   ]
  },
  {
   "cell_type": "markdown",
   "id": "e1752b92",
   "metadata": {},
   "source": [
    "# T1"
   ]
  },
  {
   "cell_type": "code",
   "execution_count": 6,
   "id": "90ceec43",
   "metadata": {
    "ExecuteTime": {
     "end_time": "2021-08-25T17:35:40.523936Z",
     "start_time": "2021-08-25T17:35:40.247034Z"
    },
    "scrolled": false
   },
   "outputs": [
    {
     "data": {
      "image/png": "[encoded data removed]",
      "text/plain": [
       "<Figure size 432x288 with 1 Axes>"
      ]
     },
     "metadata": {
      "needs_background": "light"
     },
     "output_type": "display_data"
    }
   ],
   "source": [
    "current_T1 = TC_generator(0,240, AV,IV, duration_of_ones)\n",
    "current_T1 = np.array(current_T1)\n",
    "standardized_current_T1= [(current_T1[i] - current_T1.mean())/ current_T1.std() for i in range(0, N)]\n",
    "# data to be plotted\n",
    "x = [i for i in range(0, N)]\n",
    "# plotting\n",
    "plt.title(\" TC1\")\n",
    "plt.xlabel(\"X axis\")\n",
    "plt.ylabel(\"Y axis\")\n",
    "plt.plot(x, standardized_current_T1, color =\"red\")\n",
    "plt.show()"
   ]
  },
  {
   "cell_type": "markdown",
   "id": "7cfd80b3",
   "metadata": {},
   "source": [
    "## T2"
   ]
  },
  {
   "cell_type": "code",
   "execution_count": 7,
   "id": "d92a6a54",
   "metadata": {
    "ExecuteTime": {
     "end_time": "2021-08-25T17:35:40.744622Z",
     "start_time": "2021-08-25T17:35:40.527791Z"
    },
    "scrolled": false
   },
   "outputs": [
    {
     "name": "stdout",
     "output_type": "stream",
     "text": [
      "1\n"
     ]
    },
    {
     "data": {
      "image/png": "[encoded data removed]",
      "text/plain": [
       "<Figure size 432x288 with 1 Axes>"
      ]
     },
     "metadata": {
      "needs_background": "light"
     },
     "output_type": "display_data"
    }
   ],
   "source": [
    "scaler = StandardScaler()\n",
    "current_T2 = TC_generator(1, N, AV,IV, duration_of_ones)\n",
    "current_T2 = np.array(current_T2)\n",
    "standardized_current_T2=  (current_T2 - np.mean(current_T2)) / np.std(current_T2)\n",
    "# standardized_current_T2 = scaler.fit_transform(np.array(current_T2))\n",
    " # data to be plotted\n",
    "x = [i for i in range(0, N)]\n",
    "# plotting\n",
    "print(current_T2[30])\n",
    "plt.title(\" TC2\")\n",
    "plt.xlabel(\"X axis\")\n",
    "plt.ylabel(\"Y axis\")\n",
    "plt.plot(x, standardized_current_T2, color =\"red\")\n",
    "plt.show()"
   ]
  },
  {
   "cell_type": "markdown",
   "id": "2e2a2694",
   "metadata": {},
   "source": [
    "## T3"
   ]
  },
  {
   "cell_type": "code",
   "execution_count": 8,
   "id": "0faa4059",
   "metadata": {
    "ExecuteTime": {
     "end_time": "2021-08-25T17:35:40.949170Z",
     "start_time": "2021-08-25T17:35:40.746610Z"
    }
   },
   "outputs": [
    {
     "name": "stdout",
     "output_type": "stream",
     "text": [
      "0\n"
     ]
    },
    {
     "data": {
      "image/png": "[encoded data removed]",
      "text/plain": [
       "<Figure size 432x288 with 1 Axes>"
      ]
     },
     "metadata": {
      "needs_background": "light"
     },
     "output_type": "display_data"
    }
   ],
   "source": [
    "current_T3 = TC_generator(2, 240, AV,IV, duration_of_ones)\n",
    "current_T3 = np.array(current_T3)\n",
    "standardized_current_T3 = [(current_T3[i] - current_T3.mean())/ current_T3.std() for i in range(0, N)]\n",
    " # data to be plotted\n",
    "print(current_T3[30])\n",
    "x = [i for i in range(0, N)]\n",
    "# plotting\n",
    "plt.title(\" TC3\")\n",
    "plt.xlabel(\"X axis\")\n",
    "plt.ylabel(\"Y axis\")\n",
    "plt.plot(x, standardized_current_T3, color =\"red\")\n",
    "plt.show()"
   ]
  },
  {
   "cell_type": "markdown",
   "id": "4848c828",
   "metadata": {},
   "source": [
    "## T4"
   ]
  },
  {
   "cell_type": "code",
   "execution_count": 9,
   "id": "a369b26f",
   "metadata": {
    "ExecuteTime": {
     "end_time": "2021-08-25T17:35:41.150094Z",
     "start_time": "2021-08-25T17:35:40.953181Z"
    }
   },
   "outputs": [
    {
     "data": {
      "image/png": "[encoded data removed]",
      "text/plain": [
       "<Figure size 432x288 with 1 Axes>"
      ]
     },
     "metadata": {
      "needs_background": "light"
     },
     "output_type": "display_data"
    }
   ],
   "source": [
    "current_T4 = TC_generator(3, 240, AV,IV, duration_of_ones)\n",
    "current_T4 = np.array(current_T4)\n",
    "standardized_current_T4= [(current_T4[i] - current_T4.mean())/ current_T4.std() for i in range(0, N)]\n",
    " # data to be plotted\n",
    "x = [i for i in range(0, N)]\n",
    "# plotting\n",
    "plt.title(\" TC4\")\n",
    "plt.xlabel(\"X axis\")\n",
    "plt.ylabel(\"Y axis\")\n",
    "plt.plot(x, standardized_current_T4, color =\"red\")\n",
    "plt.show()"
   ]
  },
  {
   "cell_type": "markdown",
   "id": "5beafce9",
   "metadata": {},
   "source": [
    "## T5"
   ]
  },
  {
   "cell_type": "code",
   "execution_count": 10,
   "id": "f6d0e371",
   "metadata": {
    "ExecuteTime": {
     "end_time": "2021-08-25T17:35:41.350849Z",
     "start_time": "2021-08-25T17:35:41.155102Z"
    }
   },
   "outputs": [
    {
     "data": {
      "image/png": "[encoded data removed]",
      "text/plain": [
       "<Figure size 432x288 with 1 Axes>"
      ]
     },
     "metadata": {
      "needs_background": "light"
     },
     "output_type": "display_data"
    }
   ],
   "source": [
    "current_T5 = TC_generator(4, 240, AV,IV, duration_of_ones)\n",
    "current_T5 = np.array(current_T5)\n",
    "standardized_current_T5= [(current_T5[i] - current_T5.mean())/ current_T5.std() for i in range(0, N)]\n",
    " # data to be plotted\n",
    "x = [i for i in range(0, N)]\n",
    "# plotting\n",
    "plt.title(\" TC5\")\n",
    "plt.xlabel(\"X axis\")\n",
    "plt.ylabel(\"Y axis\")\n",
    "plt.plot(x, standardized_current_T5, color =\"red\")\n",
    "plt.show()"
   ]
  },
  {
   "cell_type": "markdown",
   "id": "a21b6318",
   "metadata": {},
   "source": [
    "## T6"
   ]
  },
  {
   "cell_type": "code",
   "execution_count": 11,
   "id": "1f6dd933",
   "metadata": {
    "ExecuteTime": {
     "end_time": "2021-08-25T17:35:41.523564Z",
     "start_time": "2021-08-25T17:35:41.352853Z"
    },
    "scrolled": true
   },
   "outputs": [
    {
     "data": {
      "image/png": "[encoded data removed]",
      "text/plain": [
       "<Figure size 432x288 with 1 Axes>"
      ]
     },
     "metadata": {
      "needs_background": "light"
     },
     "output_type": "display_data"
    }
   ],
   "source": [
    "current_T6 = TC_generator(5, 240, AV,IV, duration_of_ones)\n",
    "current_T6 = np.array(current_T6)\n",
    "standardized_current_T6= [(current_T6[i] - current_T6.mean())/ current_T6.std() for i in range(0, N)]\n",
    " # data to be plotted\n",
    "x = [i for i in range(0, N)]\n",
    "# plotting\n",
    "plt.title(\" TC6\")\n",
    "plt.xlabel(\"X axis\")\n",
    "plt.ylabel(\"Y axis\")\n",
    "plt.plot(x, standardized_current_T6, color =\"red\")\n",
    "plt.show()"
   ]
  },
  {
   "cell_type": "code",
   "execution_count": 12,
   "id": "f7b2c1c8",
   "metadata": {
    "ExecuteTime": {
     "end_time": "2021-08-25T17:35:41.539069Z",
     "start_time": "2021-08-25T17:35:41.525566Z"
    }
   },
   "outputs": [
    {
     "data": {
      "text/plain": [
       "0.625"
      ]
     },
     "execution_count": 12,
     "metadata": {},
     "output_type": "execute_result"
    }
   ],
   "source": [
    "current_T6.mean()"
   ]
  },
  {
   "cell_type": "markdown",
   "id": "b4fb6028",
   "metadata": {},
   "source": [
    "### For difference TCs, they might not center around the origin after dividing the l_2 norm, it makes the comparsions between different TCs harder."
   ]
  },
  {
   "cell_type": "markdown",
   "id": "8c7edc4e",
   "metadata": {},
   "source": [
    "# 1.2 "
   ]
  },
  {
   "cell_type": "markdown",
   "id": "dd473628",
   "metadata": {},
   "source": [
    "### Create the dataframe"
   ]
  },
  {
   "cell_type": "code",
   "execution_count": 13,
   "id": "2960fa25",
   "metadata": {
    "ExecuteTime": {
     "end_time": "2021-08-25T17:35:41.555070Z",
     "start_time": "2021-08-25T17:35:41.541071Z"
    }
   },
   "outputs": [],
   "source": [
    "data = {\n",
    "    \"T_1\":  standardized_current_T1,\n",
    "    \"T_2\":  standardized_current_T2,\n",
    "    \"T_3\":  standardized_current_T3,\n",
    "    \"T_4\":  standardized_current_T4,\n",
    "    \"T_5\":  standardized_current_T5, \n",
    "    \"T_6\":  standardized_current_T6,\n",
    "}"
   ]
  },
  {
   "cell_type": "code",
   "execution_count": 14,
   "id": "0ced9b24",
   "metadata": {
    "ExecuteTime": {
     "end_time": "2021-08-25T17:35:41.645749Z",
     "start_time": "2021-08-25T17:35:41.557965Z"
    },
    "scrolled": true
   },
   "outputs": [
    {
     "data": {
      "text/html": [
       "<div>\n",
       "<style scoped>\n",
       "    .dataframe tbody tr th:only-of-type {\n",
       "        vertical-align: middle;\n",
       "    }\n",
       "\n",
       "    .dataframe tbody tr th {\n",
       "        vertical-align: top;\n",
       "    }\n",
       "\n",
       "    .dataframe thead th {\n",
       "        text-align: right;\n",
       "    }\n",
       "</style>\n",
       "<table border=\"1\" class=\"dataframe\">\n",
       "  <thead>\n",
       "    <tr style=\"text-align: right;\">\n",
       "      <th></th>\n",
       "      <th>T_1</th>\n",
       "      <th>T_2</th>\n",
       "      <th>T_3</th>\n",
       "      <th>T_4</th>\n",
       "      <th>T_5</th>\n",
       "      <th>T_6</th>\n",
       "    </tr>\n",
       "  </thead>\n",
       "  <tbody>\n",
       "    <tr>\n",
       "      <th>0</th>\n",
       "      <td>1.0</td>\n",
       "      <td>-0.845154</td>\n",
       "      <td>1.183216</td>\n",
       "      <td>1.290994</td>\n",
       "      <td>1.0</td>\n",
       "      <td>0.774597</td>\n",
       "    </tr>\n",
       "    <tr>\n",
       "      <th>1</th>\n",
       "      <td>1.0</td>\n",
       "      <td>-0.845154</td>\n",
       "      <td>1.183216</td>\n",
       "      <td>1.290994</td>\n",
       "      <td>1.0</td>\n",
       "      <td>0.774597</td>\n",
       "    </tr>\n",
       "    <tr>\n",
       "      <th>2</th>\n",
       "      <td>1.0</td>\n",
       "      <td>-0.845154</td>\n",
       "      <td>1.183216</td>\n",
       "      <td>1.290994</td>\n",
       "      <td>1.0</td>\n",
       "      <td>0.774597</td>\n",
       "    </tr>\n",
       "    <tr>\n",
       "      <th>3</th>\n",
       "      <td>1.0</td>\n",
       "      <td>-0.845154</td>\n",
       "      <td>1.183216</td>\n",
       "      <td>1.290994</td>\n",
       "      <td>1.0</td>\n",
       "      <td>0.774597</td>\n",
       "    </tr>\n",
       "    <tr>\n",
       "      <th>4</th>\n",
       "      <td>1.0</td>\n",
       "      <td>-0.845154</td>\n",
       "      <td>1.183216</td>\n",
       "      <td>1.290994</td>\n",
       "      <td>1.0</td>\n",
       "      <td>0.774597</td>\n",
       "    </tr>\n",
       "    <tr>\n",
       "      <th>5</th>\n",
       "      <td>1.0</td>\n",
       "      <td>-0.845154</td>\n",
       "      <td>1.183216</td>\n",
       "      <td>1.290994</td>\n",
       "      <td>1.0</td>\n",
       "      <td>0.774597</td>\n",
       "    </tr>\n",
       "    <tr>\n",
       "      <th>6</th>\n",
       "      <td>1.0</td>\n",
       "      <td>-0.845154</td>\n",
       "      <td>1.183216</td>\n",
       "      <td>1.290994</td>\n",
       "      <td>1.0</td>\n",
       "      <td>0.774597</td>\n",
       "    </tr>\n",
       "    <tr>\n",
       "      <th>7</th>\n",
       "      <td>1.0</td>\n",
       "      <td>-0.845154</td>\n",
       "      <td>1.183216</td>\n",
       "      <td>1.290994</td>\n",
       "      <td>1.0</td>\n",
       "      <td>0.774597</td>\n",
       "    </tr>\n",
       "    <tr>\n",
       "      <th>8</th>\n",
       "      <td>1.0</td>\n",
       "      <td>-0.845154</td>\n",
       "      <td>1.183216</td>\n",
       "      <td>1.290994</td>\n",
       "      <td>1.0</td>\n",
       "      <td>0.774597</td>\n",
       "    </tr>\n",
       "    <tr>\n",
       "      <th>9</th>\n",
       "      <td>1.0</td>\n",
       "      <td>-0.845154</td>\n",
       "      <td>1.183216</td>\n",
       "      <td>1.290994</td>\n",
       "      <td>1.0</td>\n",
       "      <td>0.774597</td>\n",
       "    </tr>\n",
       "  </tbody>\n",
       "</table>\n",
       "</div>"
      ],
      "text/plain": [
       "   T_1       T_2       T_3       T_4  T_5       T_6\n",
       "0  1.0 -0.845154  1.183216  1.290994  1.0  0.774597\n",
       "1  1.0 -0.845154  1.183216  1.290994  1.0  0.774597\n",
       "2  1.0 -0.845154  1.183216  1.290994  1.0  0.774597\n",
       "3  1.0 -0.845154  1.183216  1.290994  1.0  0.774597\n",
       "4  1.0 -0.845154  1.183216  1.290994  1.0  0.774597\n",
       "5  1.0 -0.845154  1.183216  1.290994  1.0  0.774597\n",
       "6  1.0 -0.845154  1.183216  1.290994  1.0  0.774597\n",
       "7  1.0 -0.845154  1.183216  1.290994  1.0  0.774597\n",
       "8  1.0 -0.845154  1.183216  1.290994  1.0  0.774597\n",
       "9  1.0 -0.845154  1.183216  1.290994  1.0  0.774597"
      ]
     },
     "execution_count": 14,
     "metadata": {},
     "output_type": "execute_result"
    }
   ],
   "source": [
    "data_frame_time_courses = pd.DataFrame(data)\n",
    "data_frame_time_courses.head(10)"
   ]
  },
  {
   "cell_type": "code",
   "execution_count": 15,
   "id": "ab5162a1",
   "metadata": {
    "ExecuteTime": {
     "end_time": "2021-08-25T17:35:41.676737Z",
     "start_time": "2021-08-25T17:35:41.647770Z"
    }
   },
   "outputs": [
    {
     "data": {
      "text/html": [
       "<div>\n",
       "<style scoped>\n",
       "    .dataframe tbody tr th:only-of-type {\n",
       "        vertical-align: middle;\n",
       "    }\n",
       "\n",
       "    .dataframe tbody tr th {\n",
       "        vertical-align: top;\n",
       "    }\n",
       "\n",
       "    .dataframe thead th {\n",
       "        text-align: right;\n",
       "    }\n",
       "</style>\n",
       "<table border=\"1\" class=\"dataframe\">\n",
       "  <thead>\n",
       "    <tr style=\"text-align: right;\">\n",
       "      <th></th>\n",
       "      <th>T_1</th>\n",
       "      <th>T_2</th>\n",
       "      <th>T_3</th>\n",
       "      <th>T_4</th>\n",
       "      <th>T_5</th>\n",
       "      <th>T_6</th>\n",
       "    </tr>\n",
       "  </thead>\n",
       "  <tbody>\n",
       "    <tr>\n",
       "      <th>count</th>\n",
       "      <td>240.00000</td>\n",
       "      <td>2.400000e+02</td>\n",
       "      <td>2.400000e+02</td>\n",
       "      <td>2.400000e+02</td>\n",
       "      <td>240.00000</td>\n",
       "      <td>2.400000e+02</td>\n",
       "    </tr>\n",
       "    <tr>\n",
       "      <th>mean</th>\n",
       "      <td>0.00000</td>\n",
       "      <td>5.643634e-17</td>\n",
       "      <td>-2.396231e-16</td>\n",
       "      <td>2.701543e-16</td>\n",
       "      <td>0.00000</td>\n",
       "      <td>-1.794861e-16</td>\n",
       "    </tr>\n",
       "    <tr>\n",
       "      <th>std</th>\n",
       "      <td>1.00209</td>\n",
       "      <td>1.002090e+00</td>\n",
       "      <td>1.002090e+00</td>\n",
       "      <td>1.002090e+00</td>\n",
       "      <td>1.00209</td>\n",
       "      <td>1.002090e+00</td>\n",
       "    </tr>\n",
       "    <tr>\n",
       "      <th>min</th>\n",
       "      <td>-1.00000</td>\n",
       "      <td>-8.451543e-01</td>\n",
       "      <td>-8.451543e-01</td>\n",
       "      <td>-7.745967e-01</td>\n",
       "      <td>-1.00000</td>\n",
       "      <td>-1.290994e+00</td>\n",
       "    </tr>\n",
       "    <tr>\n",
       "      <th>25%</th>\n",
       "      <td>-1.00000</td>\n",
       "      <td>-8.451543e-01</td>\n",
       "      <td>-8.451543e-01</td>\n",
       "      <td>-7.745967e-01</td>\n",
       "      <td>-1.00000</td>\n",
       "      <td>-1.290994e+00</td>\n",
       "    </tr>\n",
       "    <tr>\n",
       "      <th>50%</th>\n",
       "      <td>0.00000</td>\n",
       "      <td>-8.451543e-01</td>\n",
       "      <td>-8.451543e-01</td>\n",
       "      <td>-7.745967e-01</td>\n",
       "      <td>0.00000</td>\n",
       "      <td>7.745967e-01</td>\n",
       "    </tr>\n",
       "    <tr>\n",
       "      <th>75%</th>\n",
       "      <td>1.00000</td>\n",
       "      <td>1.183216e+00</td>\n",
       "      <td>1.183216e+00</td>\n",
       "      <td>1.290994e+00</td>\n",
       "      <td>1.00000</td>\n",
       "      <td>7.745967e-01</td>\n",
       "    </tr>\n",
       "    <tr>\n",
       "      <th>max</th>\n",
       "      <td>1.00000</td>\n",
       "      <td>1.183216e+00</td>\n",
       "      <td>1.183216e+00</td>\n",
       "      <td>1.290994e+00</td>\n",
       "      <td>1.00000</td>\n",
       "      <td>7.745967e-01</td>\n",
       "    </tr>\n",
       "  </tbody>\n",
       "</table>\n",
       "</div>"
      ],
      "text/plain": [
       "             T_1           T_2           T_3           T_4        T_5  \\\n",
       "count  240.00000  2.400000e+02  2.400000e+02  2.400000e+02  240.00000   \n",
       "mean     0.00000  5.643634e-17 -2.396231e-16  2.701543e-16    0.00000   \n",
       "std      1.00209  1.002090e+00  1.002090e+00  1.002090e+00    1.00209   \n",
       "min     -1.00000 -8.451543e-01 -8.451543e-01 -7.745967e-01   -1.00000   \n",
       "25%     -1.00000 -8.451543e-01 -8.451543e-01 -7.745967e-01   -1.00000   \n",
       "50%      0.00000 -8.451543e-01 -8.451543e-01 -7.745967e-01    0.00000   \n",
       "75%      1.00000  1.183216e+00  1.183216e+00  1.290994e+00    1.00000   \n",
       "max      1.00000  1.183216e+00  1.183216e+00  1.290994e+00    1.00000   \n",
       "\n",
       "                T_6  \n",
       "count  2.400000e+02  \n",
       "mean  -1.794861e-16  \n",
       "std    1.002090e+00  \n",
       "min   -1.290994e+00  \n",
       "25%   -1.290994e+00  \n",
       "50%    7.745967e-01  \n",
       "75%    7.745967e-01  \n",
       "max    7.745967e-01  "
      ]
     },
     "execution_count": 15,
     "metadata": {},
     "output_type": "execute_result"
    }
   ],
   "source": [
    "data_frame_time_courses.describe()"
   ]
  },
  {
   "cell_type": "code",
   "execution_count": 16,
   "id": "acb0ac8a",
   "metadata": {
    "ExecuteTime": {
     "end_time": "2021-08-25T17:35:41.691462Z",
     "start_time": "2021-08-25T17:35:41.679657Z"
    }
   },
   "outputs": [],
   "source": [
    "result = data_frame_time_courses.corr()"
   ]
  },
  {
   "cell_type": "code",
   "execution_count": 17,
   "id": "61397751",
   "metadata": {
    "ExecuteTime": {
     "end_time": "2021-08-25T17:35:42.144744Z",
     "start_time": "2021-08-25T17:35:41.693465Z"
    }
   },
   "outputs": [
    {
     "data": {
      "image/png": "[encoded data removed]",
      "text/plain": [
       "<Figure size 432x288 with 2 Axes>"
      ]
     },
     "metadata": {
      "needs_background": "light"
     },
     "output_type": "display_data"
    }
   ],
   "source": [
    "result_matrix = np.array(result)\n",
    "heatmap  = sns.heatmap(result_matrix, annot=True,yticklabels=data_frame_time_courses.columns, xticklabels = data_frame_time_courses.columns)\n",
    "plt.xticks(rotation=300)\n",
    "plt.show()"
   ]
  },
  {
   "cell_type": "markdown",
   "id": "f9c1daba",
   "metadata": {},
   "source": [
    "### TCs with the same onset arrival vector are highly correlated, despite the fact that they have different duration of ones."
   ]
  },
  {
   "cell_type": "markdown",
   "id": "21af41fb",
   "metadata": {},
   "source": [
    "# 1.3"
   ]
  },
  {
   "cell_type": "code",
   "execution_count": 18,
   "id": "a6eb64f0",
   "metadata": {
    "ExecuteTime": {
     "end_time": "2021-08-25T17:35:42.160609Z",
     "start_time": "2021-08-25T17:35:42.146747Z"
    },
    "scrolled": true
   },
   "outputs": [],
   "source": [
    "slice_1 = np.zeros((21,21))\n",
    "slice_1[2-1:6,2-1:6] = 1"
   ]
  },
  {
   "cell_type": "code",
   "execution_count": 19,
   "id": "2e5ecf1c",
   "metadata": {
    "ExecuteTime": {
     "end_time": "2021-08-25T17:35:42.176308Z",
     "start_time": "2021-08-25T17:35:42.162610Z"
    }
   },
   "outputs": [],
   "source": [
    "slice_2 = np.zeros((21,21))\n",
    "slice_2[2-1:6,15-1:19] = 1"
   ]
  },
  {
   "cell_type": "code",
   "execution_count": 20,
   "id": "90e65e36",
   "metadata": {
    "ExecuteTime": {
     "end_time": "2021-08-25T17:35:42.192226Z",
     "start_time": "2021-08-25T17:35:42.179299Z"
    }
   },
   "outputs": [],
   "source": [
    "slice_3 = np.zeros((21,21))\n",
    "slice_3[8-1:13,2-1:6] = 1"
   ]
  },
  {
   "cell_type": "code",
   "execution_count": 21,
   "id": "594b99dd",
   "metadata": {
    "ExecuteTime": {
     "end_time": "2021-08-25T17:35:42.208226Z",
     "start_time": "2021-08-25T17:35:42.194226Z"
    }
   },
   "outputs": [],
   "source": [
    "slice_4 = np.zeros((21,21))\n",
    "slice_4[8-1:13,15-1:19] = 1"
   ]
  },
  {
   "cell_type": "code",
   "execution_count": 22,
   "id": "31884e55",
   "metadata": {
    "ExecuteTime": {
     "end_time": "2021-08-25T17:35:42.223865Z",
     "start_time": "2021-08-25T17:35:42.211226Z"
    }
   },
   "outputs": [],
   "source": [
    "slice_5 = np.zeros((21,21))\n",
    "slice_5[15-1:19,2-1:6] = 1"
   ]
  },
  {
   "cell_type": "code",
   "execution_count": 23,
   "id": "ae4e9e33",
   "metadata": {
    "ExecuteTime": {
     "end_time": "2021-08-25T17:35:42.239778Z",
     "start_time": "2021-08-25T17:35:42.225866Z"
    }
   },
   "outputs": [],
   "source": [
    "slice_6 = np.zeros((21,21))\n",
    "slice_6[15-1:19,15-1:19] = 1"
   ]
  },
  {
   "cell_type": "code",
   "execution_count": 24,
   "id": "60c0c6cf",
   "metadata": {
    "ExecuteTime": {
     "end_time": "2021-08-25T17:35:42.255352Z",
     "start_time": "2021-08-25T17:35:42.241778Z"
    }
   },
   "outputs": [],
   "source": [
    "output_array = np.stack((slice_1.transpose(),slice_2.transpose(),slice_3.transpose(),slice_4.transpose(),slice_5.transpose(),slice_6.transpose(),), axis = 0)"
   ]
  },
  {
   "cell_type": "code",
   "execution_count": 25,
   "id": "2efa7fa7",
   "metadata": {
    "ExecuteTime": {
     "end_time": "2021-08-25T17:35:42.270966Z",
     "start_time": "2021-08-25T17:35:42.256975Z"
    }
   },
   "outputs": [
    {
     "data": {
      "text/plain": [
       "(6, 21, 21)"
      ]
     },
     "execution_count": 25,
     "metadata": {},
     "output_type": "execute_result"
    }
   ],
   "source": [
    "output_array.shape"
   ]
  },
  {
   "cell_type": "code",
   "execution_count": null,
   "id": "9a5283ff",
   "metadata": {
    "ExecuteTime": {
     "start_time": "2021-08-25T17:35:37.728Z"
    }
   },
   "outputs": [
    {
     "name": "stdout",
     "output_type": "stream",
     "text": [
      "SM1\n"
     ]
    }
   ],
   "source": [
    "name_list = ['SM1','SM2','SM3','SM4','SM5','SM6']\n",
    "slices = [slice_1,slice_2,slice_3,slice_4,slice_5,slice_6]\n",
    "axis = [i+1 for i in range(0,21)]\n",
    "for name, SM in zip(name_list, slices):\n",
    "    print(name)\n",
    "    heatmap  = sns.heatmap(SM, annot=True,yticklabels=axis,xticklabels = axis,cmap=\"YlGnBu\")\n",
    "    plt.xticks(rotation=45)\n",
    "    plt.show()"
   ]
  },
  {
   "cell_type": "code",
   "execution_count": null,
   "id": "b5b52a6c",
   "metadata": {
    "ExecuteTime": {
     "start_time": "2021-08-25T17:35:37.731Z"
    }
   },
   "outputs": [],
   "source": [
    "SMs = np.reshape(output_array , (6,441))\n",
    "print(SMs[0][25:35])"
   ]
  },
  {
   "cell_type": "code",
   "execution_count": null,
   "id": "51f73d7b",
   "metadata": {
    "ExecuteTime": {
     "start_time": "2021-08-25T17:35:37.734Z"
    },
    "scrolled": true
   },
   "outputs": [],
   "source": [
    " SMs.shape"
   ]
  },
  {
   "cell_type": "code",
   "execution_count": null,
   "id": "e61b9d60",
   "metadata": {
    "ExecuteTime": {
     "start_time": "2021-08-25T17:35:37.738Z"
    }
   },
   "outputs": [],
   "source": [
    "result = np.corrcoef(SMs)"
   ]
  },
  {
   "cell_type": "code",
   "execution_count": null,
   "id": "f477cb4d",
   "metadata": {
    "ExecuteTime": {
     "start_time": "2021-08-25T17:35:37.742Z"
    }
   },
   "outputs": [],
   "source": [
    "lst = [\"SM1\",\"SM2\",\"SM3\",\"SM4\",\"SM5\",\"SM6\"]\n",
    "result_matrix = np.array(result)\n",
    "heatmap  = sns.heatmap(result_matrix, annot=True,yticklabels=lst, xticklabels = lst)\n",
    "plt.xticks(rotation=300)\n",
    "plt.show()"
   ]
  },
  {
   "cell_type": "markdown",
   "id": "87c72a6a",
   "metadata": {},
   "source": [
    "### From CM above, it seems to suggest that the SMs are independent of each other. All values on those slices lie in the same range of values, it either takes 0 or 1, so it is unnecessary to standardize them."
   ]
  },
  {
   "cell_type": "markdown",
   "id": "07226207",
   "metadata": {},
   "source": [
    "## 1.4"
   ]
  },
  {
   "cell_type": "code",
   "execution_count": null,
   "id": "bb42342a",
   "metadata": {
    "ExecuteTime": {
     "start_time": "2021-08-25T17:35:37.747Z"
    }
   },
   "outputs": [],
   "source": [
    "import math\n",
    "noise_TC = np.random.normal(loc = 0.0, scale = 0.5, size = (6, 240)) \n",
    "noise_SM = np.random.normal(loc = 0.0, scale = math.sqrt(0.015), size = (6,441)) "
   ]
  },
  {
   "cell_type": "code",
   "execution_count": null,
   "id": "a036e5bf",
   "metadata": {
    "ExecuteTime": {
     "start_time": "2021-08-25T17:35:37.751Z"
    }
   },
   "outputs": [],
   "source": [
    "noise_TC.shape"
   ]
  },
  {
   "cell_type": "code",
   "execution_count": null,
   "id": "0b77d273",
   "metadata": {
    "ExecuteTime": {
     "start_time": "2021-08-25T17:35:37.754Z"
    }
   },
   "outputs": [],
   "source": [
    "print(noise_TC)"
   ]
  },
  {
   "cell_type": "code",
   "execution_count": null,
   "id": "6e9e4714",
   "metadata": {
    "ExecuteTime": {
     "start_time": "2021-08-25T17:35:37.758Z"
    }
   },
   "outputs": [],
   "source": [
    "noise_SM.shape"
   ]
  },
  {
   "cell_type": "markdown",
   "id": "a7ccfd58",
   "metadata": {},
   "source": [
    "## For time courses noise:"
   ]
  },
  {
   "cell_type": "code",
   "execution_count": null,
   "id": "193c11f1",
   "metadata": {
    "ExecuteTime": {
     "start_time": "2021-08-25T17:35:37.762Z"
    },
    "scrolled": false
   },
   "outputs": [],
   "source": [
    "result = np.corrcoef(noise_TC)\n",
    "TC = [\"TC1\",\"TC2\",\"TC3\",\"TC4\",\"TC5\",\"TC6\"]\n",
    "result_matrix = np.array(result)\n",
    "heatmap  = sns.heatmap(result_matrix, annot=True, yticklabels=TC, xticklabels = TC)\n",
    "plt.xticks(rotation=300)\n",
    "plt.show()"
   ]
  },
  {
   "cell_type": "markdown",
   "id": "dd375e25",
   "metadata": {},
   "source": [
    "## The noise sources are not correlated"
   ]
  },
  {
   "cell_type": "markdown",
   "id": "f6c08599",
   "metadata": {},
   "source": [
    "## The histograms of TC noise sources:"
   ]
  },
  {
   "cell_type": "code",
   "execution_count": null,
   "id": "681f7ba6",
   "metadata": {
    "ExecuteTime": {
     "start_time": "2021-08-25T17:35:37.767Z"
    },
    "scrolled": false
   },
   "outputs": [],
   "source": [
    "name_list = [\"TC1\",\"TC2\",\"TC3\",\"TC4\",\"TC5\",\"TC6\"]\n",
    "slices = [noise_TC[0],noise_TC[1], noise_TC[2],noise_TC[3],noise_TC[4],noise_TC[5]]\n",
    "axis = [i+1 for i in range(0,21)]\n",
    "for name, TC in zip(name_list, slices):\n",
    "    print(name)\n",
    "    heatmap  = sns.displot(TC, kde = True,bins = 15)\n",
    "    plt.xticks(rotation=45)\n",
    "    plt.show()"
   ]
  },
  {
   "cell_type": "markdown",
   "id": "21f0e5d7",
   "metadata": {},
   "source": [
    "### Yes, the mean and standard deviations are roughly following the normal distribution with parameters specified."
   ]
  },
  {
   "cell_type": "markdown",
   "id": "15349814",
   "metadata": {},
   "source": [
    "## For Spatial maps noise:"
   ]
  },
  {
   "cell_type": "code",
   "execution_count": null,
   "id": "1415853b",
   "metadata": {
    "ExecuteTime": {
     "start_time": "2021-08-25T17:35:37.772Z"
    }
   },
   "outputs": [],
   "source": [
    "result = np.corrcoef(noise_SM)\n",
    "SM = [\"SM1\",\"SM2\",\"SM3\",\"SM4\",\"SM5\",\"SM6\"]\n",
    "result_matrix = np.array(result)\n",
    "heatmap  = sns.heatmap(result_matrix, annot=True,yticklabels=SM, xticklabels = SM)\n",
    "plt.xticks(rotation=300)\n",
    "plt.show()"
   ]
  },
  {
   "cell_type": "markdown",
   "id": "df758f8a",
   "metadata": {},
   "source": [
    "## The noise sources are not correlated"
   ]
  },
  {
   "cell_type": "markdown",
   "id": "d96973a7",
   "metadata": {},
   "source": [
    "## The histograms of SM noise sources:\n"
   ]
  },
  {
   "cell_type": "code",
   "execution_count": null,
   "id": "c533ad79",
   "metadata": {
    "ExecuteTime": {
     "start_time": "2021-08-25T17:35:37.778Z"
    },
    "scrolled": false
   },
   "outputs": [],
   "source": [
    "name_list  = [\"SM1\",\"SM2\",\"SM3\",\"SM4\",\"SM5\",\"SM6\"]\n",
    "slices = [noise_SM[0],noise_SM[1], noise_SM[2],noise_SM[3],noise_SM[4],noise_SM[5]]\n",
    "axis = [i+1 for i in range(0,21)]\n",
    "for name, SM in zip(name_list, slices):\n",
    "    print(name)\n",
    "    heatmap  = sns.displot(SM, kde = True,bins = 15)\n",
    "    plt.xticks(rotation=45)\n",
    "    plt.show()"
   ]
  },
  {
   "cell_type": "markdown",
   "id": "7178073a",
   "metadata": {},
   "source": [
    "# Plot the entire noise dataset for temporal and Spatial sources"
   ]
  },
  {
   "cell_type": "code",
   "execution_count": null,
   "id": "47ad8c3b",
   "metadata": {
    "ExecuteTime": {
     "start_time": "2021-08-25T17:35:37.785Z"
    },
    "scrolled": false
   },
   "outputs": [],
   "source": [
    "\n",
    "plot = sns.displot(list(np.reshape(noise_SM, (1,2646))[0]), bins = 100, kde = True)\n",
    "plt.title(\"Histogram of Noise dataset for Spatial Sources\")"
   ]
  },
  {
   "cell_type": "code",
   "execution_count": null,
   "id": "06c98bd1",
   "metadata": {
    "ExecuteTime": {
     "start_time": "2021-08-25T17:35:37.789Z"
    }
   },
   "outputs": [],
   "source": [
    "plot2 = sns.displot(list(np.reshape(noise_TC, (1,1440))[0]), bins = 50, kde = True)\n",
    "plt.title(\"Histogram of Noise dataset for Temporal Sources\")"
   ]
  },
  {
   "cell_type": "markdown",
   "id": "ee0383f3",
   "metadata": {},
   "source": [
    "### Yes, the mean and standard deviations are roughly following the normal distribution with parameters specified."
   ]
  },
  {
   "cell_type": "code",
   "execution_count": null,
   "id": "8c0085a4",
   "metadata": {
    "ExecuteTime": {
     "start_time": "2021-08-25T17:35:37.794Z"
    }
   },
   "outputs": [],
   "source": [
    "product = np.matmul(noise_TC.transpose(),noise_SM)"
   ]
  },
  {
   "cell_type": "markdown",
   "id": "66ee2bc4",
   "metadata": {},
   "source": [
    "## Correlation between $\\Gamma_s\\Gamma_t$ and $V$ number of variables"
   ]
  },
  {
   "cell_type": "code",
   "execution_count": null,
   "id": "5ecb6629",
   "metadata": {
    "ExecuteTime": {
     "start_time": "2021-08-25T17:35:37.800Z"
    }
   },
   "outputs": [],
   "source": [
    "product = np.matmul(noise_TC.transpose(),noise_SM)\n",
    "print(product.shape)"
   ]
  },
  {
   "cell_type": "markdown",
   "id": "6eb3895a",
   "metadata": {
    "ExecuteTime": {
     "end_time": "2021-08-23T07:43:37.327750Z",
     "start_time": "2021-08-23T07:43:37.314750Z"
    },
    "scrolled": true
   },
   "source": [
    "# We choose the first 20 variables to see if they have any correlations"
   ]
  },
  {
   "cell_type": "code",
   "execution_count": null,
   "id": "af61566c",
   "metadata": {
    "ExecuteTime": {
     "start_time": "2021-08-25T17:35:37.804Z"
    },
    "scrolled": false
   },
   "outputs": [],
   "source": [
    "plot = plt.figure(figsize=(12,10))\n",
    "x = [i + 1 for i in range(0,20)]\n",
    "result = np.corrcoef(np.array(product[0:20]))\n",
    "plt.title(\"Heatmap of Correlation Matrix for the first 20 variables\")\n",
    "heatmap  = sns.heatmap(abs(result), annot=False,yticklabels=x, xticklabels = x,cmap=\"YlGnBu\" )"
   ]
  },
  {
   "cell_type": "markdown",
   "id": "2311a2aa",
   "metadata": {},
   "source": [
    "## From the Heatmap of the correlation matrix, we can see that in general $\\Gamma_s\\Gamma_t$ are moderately correlated either negatively or positively across the $V$ number of variables. "
   ]
  },
  {
   "cell_type": "markdown",
   "id": "96e5fcaa",
   "metadata": {},
   "source": [
    "## 1.5"
   ]
  },
  {
   "cell_type": "code",
   "execution_count": null,
   "id": "951d4445",
   "metadata": {
    "ExecuteTime": {
     "start_time": "2021-08-25T17:35:37.809Z"
    }
   },
   "outputs": [],
   "source": [
    "data_frame_time_courses.shape"
   ]
  },
  {
   "cell_type": "code",
   "execution_count": null,
   "id": "49f3c1de",
   "metadata": {
    "ExecuteTime": {
     "start_time": "2021-08-25T17:35:37.814Z"
    }
   },
   "outputs": [],
   "source": [
    "noise_TC.transpose().shape"
   ]
  },
  {
   "cell_type": "code",
   "execution_count": null,
   "id": "04de2bca",
   "metadata": {
    "ExecuteTime": {
     "start_time": "2021-08-25T17:35:37.818Z"
    }
   },
   "outputs": [],
   "source": [
    "print(SMs.shape)\n",
    "print(noise_SM.shape)"
   ]
  },
  {
   "cell_type": "code",
   "execution_count": null,
   "id": "0abeffd7",
   "metadata": {
    "ExecuteTime": {
     "start_time": "2021-08-25T17:35:37.822Z"
    }
   },
   "outputs": [],
   "source": [
    "X = np.matmul((data_frame_time_courses + noise_TC.transpose()),(SMs + noise_SM))\n",
    "print(X.shape)"
   ]
  },
  {
   "cell_type": "markdown",
   "id": "b9b9118a",
   "metadata": {},
   "source": [
    "# Random Time Series Visualization with 105 random time series choosen"
   ]
  },
  {
   "cell_type": "code",
   "execution_count": null,
   "id": "7a48ddcf",
   "metadata": {
    "ExecuteTime": {
     "start_time": "2021-08-25T17:35:37.827Z"
    }
   },
   "outputs": [],
   "source": [
    "import time\n",
    "rng = np.random.default_rng(int(time.time()))\n",
    "index_random_selected = rng.integers(low=0, high=441,size = 105)\n",
    "print(index_random_selected)"
   ]
  },
  {
   "cell_type": "code",
   "execution_count": null,
   "id": "45e0f100",
   "metadata": {
    "ExecuteTime": {
     "start_time": "2021-08-25T17:35:37.830Z"
    },
    "scrolled": false
   },
   "outputs": [],
   "source": [
    "x  =[ i + 1 for i in range(0,240)]\n",
    "fig = plt.figure(figsize = (15,5))\n",
    "plot = plt.plot(x, X[index_random_selected])"
   ]
  },
  {
   "cell_type": "markdown",
   "id": "c6ae339a",
   "metadata": {},
   "source": [
    "# Visualization of variances in the histogram for 441 variables"
   ]
  },
  {
   "cell_type": "code",
   "execution_count": null,
   "id": "da4fc285",
   "metadata": {
    "ExecuteTime": {
     "start_time": "2021-08-25T17:35:37.835Z"
    }
   },
   "outputs": [],
   "source": [
    "std_441 = np.array(X.describe())[2]\n"
   ]
  },
  {
   "cell_type": "markdown",
   "id": "d4238c3c",
   "metadata": {},
   "source": [
    "### Variance"
   ]
  },
  {
   "cell_type": "code",
   "execution_count": null,
   "id": "9e21b36a",
   "metadata": {
    "ExecuteTime": {
     "start_time": "2021-08-25T17:35:37.842Z"
    }
   },
   "outputs": [],
   "source": [
    "var_441 =  [ i*i  for i in std_441]\n",
    "sns.displot(var_441, bins = 25, kde = True)"
   ]
  },
  {
   "cell_type": "markdown",
   "id": "ab68976c",
   "metadata": {},
   "source": [
    "### Standard Deviation"
   ]
  },
  {
   "cell_type": "code",
   "execution_count": null,
   "id": "42a6d6c7",
   "metadata": {
    "ExecuteTime": {
     "start_time": "2021-08-25T17:35:37.848Z"
    }
   },
   "outputs": [],
   "source": [
    "sns.displot(std_441, bins = 25, kde = True)"
   ]
  },
  {
   "cell_type": "markdown",
   "id": "0126cce1",
   "metadata": {},
   "source": [
    "#### These terms can not exist when we are trying to fit the model where the design matrix itself is supposed to be already fixed upon finishing of collecting the samples, and not variation incur for those samples, but when we are trying to create the dataset, these terms exist as a consequence of adding the noise to TCs and SMs.\n",
    "\n",
    "#### From the plot of the variances of 441 variables, we can see that the empirical distribution is bimodal, which is correspond to the number of noise terms we add when creating the synthetic dataset."
   ]
  },
  {
   "cell_type": "markdown",
   "id": "61385da3",
   "metadata": {},
   "source": [
    "## Standardizing the dataset X"
   ]
  },
  {
   "cell_type": "code",
   "execution_count": null,
   "id": "2c1c2031",
   "metadata": {
    "ExecuteTime": {
     "start_time": "2021-08-25T17:35:37.853Z"
    }
   },
   "outputs": [],
   "source": [
    "Standardized_X  = X.copy()\n",
    "for column in X.columns:\n",
    "    Standardized_X[column] = (X[column] - X[column].mean())/X[column].std()\n"
   ]
  },
  {
   "cell_type": "code",
   "execution_count": null,
   "id": "8a4ca14e",
   "metadata": {
    "ExecuteTime": {
     "start_time": "2021-08-25T17:35:37.858Z"
    }
   },
   "outputs": [],
   "source": [
    "Standardized_X.shape"
   ]
  },
  {
   "cell_type": "code",
   "execution_count": null,
   "id": "9294841b",
   "metadata": {
    "ExecuteTime": {
     "start_time": "2021-08-25T17:35:37.862Z"
    }
   },
   "outputs": [],
   "source": [
    "Standardized_X.head()"
   ]
  },
  {
   "cell_type": "code",
   "execution_count": null,
   "id": "475a79bd",
   "metadata": {
    "ExecuteTime": {
     "start_time": "2021-08-25T17:35:37.867Z"
    }
   },
   "outputs": [],
   "source": [
    "Standardized_X.describe()"
   ]
  },
  {
   "cell_type": "markdown",
   "id": "a38d32c1",
   "metadata": {},
   "source": [
    "# Question 2"
   ]
  },
  {
   "cell_type": "markdown",
   "id": "4231a806",
   "metadata": {},
   "source": [
    "## 2.1"
   ]
  },
  {
   "cell_type": "code",
   "execution_count": null,
   "id": "7b45655d",
   "metadata": {
    "ExecuteTime": {
     "start_time": "2021-08-25T17:35:37.872Z"
    }
   },
   "outputs": [],
   "source": [
    "DTD = np.matmul(data_frame_time_courses.transpose(),data_frame_time_courses)\n",
    "DT_standardised_X = np.matmul(data_frame_time_courses.transpose(),Standardized_X)"
   ]
  },
  {
   "cell_type": "code",
   "execution_count": null,
   "id": "846c656c",
   "metadata": {
    "ExecuteTime": {
     "start_time": "2021-08-25T17:35:37.875Z"
    }
   },
   "outputs": [],
   "source": [
    "Standardized_X.shape"
   ]
  },
  {
   "cell_type": "code",
   "execution_count": null,
   "id": "1d0de9d6",
   "metadata": {
    "ExecuteTime": {
     "start_time": "2021-08-25T17:35:37.878Z"
    }
   },
   "outputs": [],
   "source": [
    "DTD"
   ]
  },
  {
   "cell_type": "code",
   "execution_count": null,
   "id": "5b8dd1aa",
   "metadata": {
    "ExecuteTime": {
     "start_time": "2021-08-25T17:35:37.881Z"
    }
   },
   "outputs": [],
   "source": [
    "A_LSR = np.matmul(np.linalg.inv(DTD), DT_standardised_X)"
   ]
  },
  {
   "cell_type": "code",
   "execution_count": null,
   "id": "5d378c46",
   "metadata": {
    "ExecuteTime": {
     "start_time": "2021-08-25T17:35:37.884Z"
    }
   },
   "outputs": [],
   "source": [
    "A_LSR = abs(A_LSR)"
   ]
  },
  {
   "cell_type": "code",
   "execution_count": null,
   "id": "718fd8f6",
   "metadata": {
    "ExecuteTime": {
     "start_time": "2021-08-25T17:35:37.887Z"
    }
   },
   "outputs": [],
   "source": [
    "D_LSR  = np.matmul(Standardized_X,A_LSR.transpose())"
   ]
  },
  {
   "cell_type": "code",
   "execution_count": null,
   "id": "95e0f316",
   "metadata": {
    "ExecuteTime": {
     "start_time": "2021-08-25T17:35:37.891Z"
    },
    "scrolled": false
   },
   "outputs": [],
   "source": [
    "D_LSR"
   ]
  },
  {
   "cell_type": "code",
   "execution_count": null,
   "id": "3f2c3bbf",
   "metadata": {
    "ExecuteTime": {
     "start_time": "2021-08-25T17:35:37.893Z"
    },
    "scrolled": false
   },
   "outputs": [],
   "source": [
    "x = [i+1 for i in range(0,240)]\n",
    "name_list = [\"TC1\",\"TC2\",\"TC3\",\"TC4\",\"TC5\",\"TC6\"]\n",
    "for name, index in zip(name_list, [i for i in range(6)]):\n",
    "    fig = plt.figure(figsize = (10,5))\n",
    "    plt.title(r\"Retrieved Time Courses: \" + name)\n",
    "    plot = plt.plot(x, D_LSR[index])\n",
    "    "
   ]
  },
  {
   "cell_type": "code",
   "execution_count": null,
   "id": "995cf16a",
   "metadata": {
    "ExecuteTime": {
     "start_time": "2021-08-25T17:35:37.896Z"
    },
    "scrolled": false
   },
   "outputs": [],
   "source": [
    "x = [i+1 for i in range(0,21)]\n",
    "name_list = [\"SM1\",\"SM2\",\"SM3\",\"SM4\",\"SM5\",\"SM6\"]\n",
    "for name, index in zip(name_list, [i for i in range(6)]):\n",
    "    fig, (ax1,ax2) = plt.subplots(1,2,figsize = (16,6))\n",
    "    fig.suptitle(r\"Using the LSR, Retrieved Spatial Maps: \" + name)\n",
    "    one_map = np.reshape(np.array(A_LSR.iloc[index,:]), (21,21)).transpose()\n",
    "    sns.heatmap(one_map,ax = ax2,yticklabels=x,xticklabels=x)\n",
    "    sns.heatmap(np.reshape(SMs[index], (21,21)).transpose(),yticklabels=x,xticklabels=x,ax =ax1)\n",
    "    fig.show()"
   ]
  },
  {
   "cell_type": "markdown",
   "id": "c433d4e1",
   "metadata": {},
   "source": [
    "## Scatter plot between 30th Columns of Standardized X and 3rd Column of D_LSR"
   ]
  },
  {
   "cell_type": "code",
   "execution_count": null,
   "id": "15ea2484",
   "metadata": {
    "ExecuteTime": {
     "start_time": "2021-08-25T17:35:37.900Z"
    },
    "scrolled": false
   },
   "outputs": [],
   "source": [
    "plt.scatter(Standardized_X[29],D_LSR[2])"
   ]
  },
  {
   "cell_type": "code",
   "execution_count": null,
   "id": "2bc54f1f",
   "metadata": {
    "ExecuteTime": {
     "start_time": "2021-08-25T17:35:37.903Z"
    }
   },
   "outputs": [],
   "source": [
    "np.corrcoef(Standardized_X[29],D_LSR[2])"
   ]
  },
  {
   "cell_type": "markdown",
   "id": "8b7c2a2d",
   "metadata": {
    "ExecuteTime": {
     "end_time": "2021-08-23T03:34:57.370703Z",
     "start_time": "2021-08-23T03:34:57.359703Z"
    }
   },
   "source": [
    "## Scatter plot between 30th Columns of Standardized X and 4rd Column of D_LSR"
   ]
  },
  {
   "cell_type": "code",
   "execution_count": null,
   "id": "d069bc58",
   "metadata": {
    "ExecuteTime": {
     "start_time": "2021-08-25T17:35:37.907Z"
    },
    "scrolled": true
   },
   "outputs": [],
   "source": [
    "plt.scatter(Standardized_X[29],D_LSR[3])"
   ]
  },
  {
   "cell_type": "code",
   "execution_count": null,
   "id": "124437ed",
   "metadata": {
    "ExecuteTime": {
     "start_time": "2021-08-25T17:35:37.909Z"
    }
   },
   "outputs": [],
   "source": [
    "np.corrcoef(Standardized_X[29],D_LSR[3])\n"
   ]
  },
  {
   "cell_type": "markdown",
   "id": "e68519e5",
   "metadata": {},
   "source": [
    "### Only the third temporal source contributed to this element on the spatial map as only the third spatial map turn out to be 1 at this pixel values, which will preserve the effect from the temporal sources  after taking the dot product in the matrix multiplication. "
   ]
  },
  {
   "cell_type": "markdown",
   "id": "beaf671a",
   "metadata": {},
   "source": [
    "## 2.2"
   ]
  },
  {
   "cell_type": "code",
   "execution_count": null,
   "id": "c0361b85",
   "metadata": {
    "ExecuteTime": {
     "start_time": "2021-08-25T17:35:37.914Z"
    }
   },
   "outputs": [],
   "source": [
    "A_LSR.head()"
   ]
  },
  {
   "cell_type": "code",
   "execution_count": null,
   "id": "00c769fe",
   "metadata": {
    "ExecuteTime": {
     "start_time": "2021-08-25T17:35:37.917Z"
    }
   },
   "outputs": [],
   "source": [
    "# Generate the possible values for lambda\n",
    "lambda_values = np.linspace(0,1,10000)*441"
   ]
  },
  {
   "cell_type": "code",
   "execution_count": null,
   "id": "0aecc81e",
   "metadata": {
    "ExecuteTime": {
     "start_time": "2021-08-25T17:35:37.920Z"
    }
   },
   "outputs": [],
   "source": [
    "# storing the MSE results for differernt lambda values\n",
    "identity_matrix = np.identity(6)\n",
    "MSE_results = []\n",
    "for values in lambda_values: \n",
    "    A_RR = np.matmul(np.linalg.inv(DTD + values*identity_matrix),DT_standardised_X)\n",
    "    D_RR = np.matmul(Standardized_X,A_RR.transpose())\n",
    "    X_hat = np.matmul(D_RR, A_RR)\n",
    "    MSE = mean_squared_error(Standardized_X, X_hat)\n",
    "    MSE_results.append(MSE)\n",
    "MSE_results = np.array(MSE_results)"
   ]
  },
  {
   "cell_type": "code",
   "execution_count": null,
   "id": "0ceefb2a",
   "metadata": {
    "ExecuteTime": {
     "start_time": "2021-08-25T17:35:37.922Z"
    }
   },
   "outputs": [],
   "source": [
    "#Plot the graph of MSE against Lambda values.\n",
    "plt.plot(lambda_values, MSE_results, color =\"blue\")\n",
    "plt.show()"
   ]
  },
  {
   "cell_type": "code",
   "execution_count": null,
   "id": "c5b2eabf",
   "metadata": {
    "ExecuteTime": {
     "start_time": "2021-08-25T17:35:37.925Z"
    }
   },
   "outputs": [],
   "source": [
    "# Choose the optimal value that minimize the value of MSE\n",
    "optimal_lambda = lambda_values[np.argmin(MSE_results)]"
   ]
  },
  {
   "cell_type": "code",
   "execution_count": null,
   "id": "8945cd49",
   "metadata": {
    "ExecuteTime": {
     "start_time": "2021-08-25T17:35:37.928Z"
    }
   },
   "outputs": [],
   "source": [
    "# Generate the best A_RR and D_RR and X_hat\n",
    "A_RR = np.matmul(np.linalg.inv(DTD + optimal_lambda*identity_matrix),DT_standardised_X)\n",
    "D_RR = np.matmul(Standardized_X,A_RR.transpose())\n",
    "X_hat = np.matmul(D_RR, A_RR)"
   ]
  },
  {
   "cell_type": "code",
   "execution_count": null,
   "id": "df1aaa7e",
   "metadata": {
    "ExecuteTime": {
     "start_time": "2021-08-25T17:35:37.931Z"
    }
   },
   "outputs": [],
   "source": [
    "corr_result_LSR = []\n",
    "for i in range(6):\n",
    "    correction = abs(np.corrcoef(D_LSR[i], np.array(data_frame_time_courses.iloc[:,i]))[1,0])\n",
    "    corr_result_LSR.append(correction)\n",
    "corr_result_LSR"
   ]
  },
  {
   "cell_type": "code",
   "execution_count": null,
   "id": "b07e9ef6",
   "metadata": {
    "ExecuteTime": {
     "start_time": "2021-08-25T17:35:37.934Z"
    }
   },
   "outputs": [],
   "source": [
    "corr_result_RR = []\n",
    "for i in range(6):\n",
    "    correction = abs(np.corrcoef(D_RR[i], np.array(data_frame_time_courses.iloc[:,i]))[1,0])\n",
    "    corr_result_RR.append(correction)\n",
    "corr_result_RR"
   ]
  },
  {
   "cell_type": "code",
   "execution_count": null,
   "id": "e1b41d43",
   "metadata": {
    "ExecuteTime": {
     "start_time": "2021-08-25T17:35:37.937Z"
    }
   },
   "outputs": [],
   "source": [
    "print(sum(corr_result_LSR) < sum(corr_result_RR))\n"
   ]
  },
  {
   "cell_type": "code",
   "execution_count": null,
   "id": "3642a06c",
   "metadata": {
    "ExecuteTime": {
     "start_time": "2021-08-25T17:35:37.940Z"
    }
   },
   "outputs": [],
   "source": [
    "print(\"LSR:\")\n",
    "print(sum(corr_result_LSR))\n",
    "print(\"RR:\")\n",
    "print(sum(corr_result_RR))"
   ]
  },
  {
   "cell_type": "markdown",
   "id": "cf2ad61e",
   "metadata": {},
   "source": [
    "# Plot the graphs of respective first vectors from $A_{RR}$ and $A_{LSR}$, when $\\lambda = 1000$"
   ]
  },
  {
   "cell_type": "code",
   "execution_count": null,
   "id": "f01015b3",
   "metadata": {
    "ExecuteTime": {
     "start_time": "2021-08-25T17:35:37.943Z"
    }
   },
   "outputs": [],
   "source": [
    "A_RR_1000 = np.matmul(np.linalg.inv(DTD + 1000*441*identity_matrix),DT_standardised_X)\n",
    "D_RR_1000 = np.matmul(Standardized_X,A_RR.transpose())\n",
    "X_hat_1000 = np.matmul(D_RR, A_RR)"
   ]
  },
  {
   "cell_type": "code",
   "execution_count": null,
   "id": "8dca8ddf",
   "metadata": {
    "ExecuteTime": {
     "start_time": "2021-08-25T17:35:37.946Z"
    }
   },
   "outputs": [],
   "source": [
    "x = [i + 1 for i in range(0,21)]"
   ]
  },
  {
   "cell_type": "code",
   "execution_count": null,
   "id": "df5623ab",
   "metadata": {
    "ExecuteTime": {
     "start_time": "2021-08-25T17:35:37.949Z"
    },
    "scrolled": true
   },
   "outputs": [],
   "source": [
    "plt.title(\"RR first Spatial map\")\n",
    "sns.heatmap(abs(np.reshape(np.array(A_RR_1000.iloc[0,:]),(21,21))),yticklabels=x,xticklabels=x)"
   ]
  },
  {
   "cell_type": "code",
   "execution_count": null,
   "id": "e25dcb36",
   "metadata": {
    "ExecuteTime": {
     "start_time": "2021-08-25T17:35:37.951Z"
    },
    "scrolled": false
   },
   "outputs": [],
   "source": [
    "name_list = [\"SM1\",\"SM2\",\"SM3\",\"SM4\",\"SM5\",\"SM6\"]\n",
    "for i in range(6):\n",
    "    fig, (ax1,ax2) = plt.subplots(1,2,figsize = (16,6))\n",
    "    fig.suptitle(\"Comparsion of heatmaps of Spatial Maps between retrieved from RR and \"  +name_list[i])\n",
    "    sns.heatmap(np.reshape(SMs[i], (21,21)).transpose(),yticklabels=x,xticklabels=x,ax =ax1)\n",
    "    sns.heatmap(abs(np.reshape(np.array(A_RR_1000.iloc[i,:]),(21,21))).transpose(),yticklabels=x,xticklabels=x,ax =ax2)\n",
    "    fig.show()"
   ]
  },
  {
   "cell_type": "code",
   "execution_count": null,
   "id": "0cad28f8",
   "metadata": {
    "ExecuteTime": {
     "start_time": "2021-08-25T17:35:37.954Z"
    }
   },
   "outputs": [],
   "source": [
    "plt.title(\"First Vector from A_RR\")\n",
    "plt.plot([i+1 for i in range(441)], np.array(A_RR_1000.iloc[0,:]))"
   ]
  },
  {
   "cell_type": "code",
   "execution_count": null,
   "id": "4112e96b",
   "metadata": {
    "ExecuteTime": {
     "start_time": "2021-08-25T17:35:37.957Z"
    },
    "scrolled": true
   },
   "outputs": [],
   "source": [
    "plt.title(\"LSR first Spatial map\")\n",
    "sns.heatmap(np.reshape(np.array(A_LSR.iloc[0,:]),(21,21)),yticklabels=x,xticklabels=x)"
   ]
  },
  {
   "cell_type": "code",
   "execution_count": null,
   "id": "58cc92d6",
   "metadata": {
    "ExecuteTime": {
     "start_time": "2021-08-25T17:35:37.960Z"
    }
   },
   "outputs": [],
   "source": [
    "plt.title(\"First Vector from A_LSR\")\n",
    "plt.plot([i+1 for i in range(441)], np.array(A_LSR.iloc[0,:]))"
   ]
  },
  {
   "cell_type": "markdown",
   "id": "08580565",
   "metadata": {},
   "source": [
    "## Yes, the pixel values of the spatial map from $A_{RR}$ are shrinking to zeros."
   ]
  },
  {
   "cell_type": "markdown",
   "id": "235888dc",
   "metadata": {},
   "source": [
    "## 2.3"
   ]
  },
  {
   "cell_type": "code",
   "execution_count": null,
   "id": "5bfc8b19",
   "metadata": {
    "ExecuteTime": {
     "start_time": "2021-08-25T17:35:37.964Z"
    }
   },
   "outputs": [],
   "source": [
    "from sklearn import linear_model\n",
    "rou_values = np.linspace(0,1,21)\n",
    "print(rou_values)"
   ]
  },
  {
   "cell_type": "code",
   "execution_count": null,
   "id": "af1a38d3",
   "metadata": {
    "ExecuteTime": {
     "start_time": "2021-08-25T17:35:37.967Z"
    }
   },
   "outputs": [],
   "source": [
    "MSE_LR_results = []\n",
    "A_LR_results = []\n",
    "D_LR_results = []\n",
    "for i in rou_values:\n",
    "    clf = linear_model.Lasso(alpha=i)\n",
    "    clf.fit(data_frame_time_courses, Standardized_X)\n",
    "    A_LR = clf.coef_.transpose()\n",
    "    D_LR = np.matmul(Standardized_X,A_LR.transpose())\n",
    "    MSE = mean_squared_error(Standardized_X, np.matmul(D_LR,A_LR))\n",
    "    A_LR_results.append(A_LR)\n",
    "    D_LR_results.append(D_LR)\n",
    "    MSE_LR_results.append(MSE)\n",
    "    "
   ]
  },
  {
   "cell_type": "code",
   "execution_count": null,
   "id": "213d58c4",
   "metadata": {
    "ExecuteTime": {
     "start_time": "2021-08-25T17:35:37.970Z"
    }
   },
   "outputs": [],
   "source": [
    "plt.plot(rou_values, MSE_LR_results)"
   ]
  },
  {
   "cell_type": "code",
   "execution_count": null,
   "id": "fc7e597c",
   "metadata": {
    "ExecuteTime": {
     "start_time": "2021-08-25T17:35:37.972Z"
    }
   },
   "outputs": [],
   "source": [
    "MSE_LR_10results =[]\n",
    "for k in range(10):\n",
    "    noise_TC = np.random.normal(loc = 0.0, scale = 0.5, size = (6, 240)) \n",
    "    noise_SM = np.random.normal(loc = 0.0, scale = math.sqrt(0.015), size = (6,441)) \n",
    "    X = np.matmul((data_frame_time_courses + noise_TC.transpose()),(SMs + noise_SM))\n",
    "    for column in X.columns:\n",
    "        Standardized_X[column] = (X[column] - X[column].mean())/X[column].std()\n",
    "    \n",
    "    MSE_LR_results = []\n",
    "    for i in rou_values:\n",
    "        clf = linear_model.Lasso(alpha=i)\n",
    "        clf.fit(data_frame_time_courses, Standardized_X)\n",
    "        A_LR = clf.coef_.transpose()\n",
    "        D_LR = np.matmul(Standardized_X,A_LR.transpose())\n",
    "        MSE = mean_squared_error(Standardized_X, np.matmul(D_LR,A_LR))\n",
    "        A_LR_results.append(A_LR)\n",
    "        D_LR_results.append(D_LR)\n",
    "        MSE_LR_results.append(MSE)\n",
    "    MSE_LR_10results.append(MSE_LR_results)\n",
    "\n",
    "    "
   ]
  },
  {
   "cell_type": "code",
   "execution_count": null,
   "id": "6fd9ff85",
   "metadata": {
    "ExecuteTime": {
     "start_time": "2021-08-25T17:35:37.975Z"
    }
   },
   "outputs": [],
   "source": [
    "MSE_LR_10results_T = np.array(MSE_LR_10results).transpose()\n",
    "print(MSE_LR_10results_T.shape)"
   ]
  },
  {
   "cell_type": "code",
   "execution_count": null,
   "id": "6634849a",
   "metadata": {
    "ExecuteTime": {
     "start_time": "2021-08-25T17:35:37.978Z"
    },
    "scrolled": true
   },
   "outputs": [],
   "source": [
    "Mean_MSE_results_for_10 = []\n",
    "for i in range(21):\n",
    "    Mean_MSE_results_for_10.append(MSE_LR_10results_T[i].mean())\n",
    "print(Mean_MSE_results_for_10)\n"
   ]
  },
  {
   "cell_type": "code",
   "execution_count": null,
   "id": "e1aeb4a4",
   "metadata": {
    "ExecuteTime": {
     "start_time": "2021-08-25T17:35:37.981Z"
    },
    "scrolled": true
   },
   "outputs": [],
   "source": [
    "plt.title(\" Average of MSE over these 10 realizations against each value of ρ\")\n",
    "plt.plot(rou_values,Mean_MSE_results_for_10)"
   ]
  },
  {
   "cell_type": "markdown",
   "id": "aa56d117",
   "metadata": {},
   "source": [
    "# Too see the turning point much clear, we apply the log transformation here"
   ]
  },
  {
   "cell_type": "code",
   "execution_count": null,
   "id": "5a01c1ce",
   "metadata": {
    "ExecuteTime": {
     "start_time": "2021-08-25T17:35:37.984Z"
    },
    "scrolled": true
   },
   "outputs": [],
   "source": [
    "plt.title(\" Average of MSE over these 10 realizations against each value of ρ after the log transformation\")\n",
    "plt.plot(rou_values,[math.log(i) for i in Mean_MSE_results_for_10])"
   ]
  },
  {
   "cell_type": "code",
   "execution_count": null,
   "id": "dcfaaa63",
   "metadata": {
    "ExecuteTime": {
     "start_time": "2021-08-25T17:35:37.987Z"
    }
   },
   "outputs": [],
   "source": [
    "optimal_rou_value = rou_values[np.argmin(Mean_MSE_results_for_10)]\n",
    "print(optimal_rou_value)"
   ]
  },
  {
   "cell_type": "markdown",
   "id": "447d108e",
   "metadata": {},
   "source": [
    "### The $\\rho$ value found in this case is 0.7000 which minimize the MSE after 10 realizations, this result, in general, should be quite reliable as it is obtained upon 10 times of different realizations of noise sources."
   ]
  },
  {
   "cell_type": "markdown",
   "id": "d2a9e127",
   "metadata": {},
   "source": [
    "## 2.4"
   ]
  },
  {
   "cell_type": "code",
   "execution_count": null,
   "id": "0c831b72",
   "metadata": {
    "ExecuteTime": {
     "start_time": "2021-08-25T17:35:37.991Z"
    }
   },
   "outputs": [],
   "source": [
    "clf = linear_model.Lasso(alpha=optimal_rou_value)\n",
    "clf.fit(data_frame_time_courses, Standardized_X)\n",
    "A_LR = clf.coef_.transpose()\n",
    "D_LR = np.matmul(Standardized_X,A_LR.transpose())"
   ]
  },
  {
   "cell_type": "code",
   "execution_count": null,
   "id": "36f5ef20",
   "metadata": {
    "ExecuteTime": {
     "start_time": "2021-08-25T17:35:37.993Z"
    }
   },
   "outputs": [],
   "source": [
    "print(A_LR.shape)\n",
    "print(D_LR.shape)"
   ]
  },
  {
   "cell_type": "markdown",
   "id": "331c0034",
   "metadata": {},
   "source": [
    "## Estimate the correlation vectors"
   ]
  },
  {
   "cell_type": "markdown",
   "id": "859c973e",
   "metadata": {},
   "source": [
    "### For RR:"
   ]
  },
  {
   "cell_type": "code",
   "execution_count": null,
   "id": "9547a92c",
   "metadata": {
    "ExecuteTime": {
     "start_time": "2021-08-25T17:35:37.998Z"
    },
    "scrolled": true
   },
   "outputs": [],
   "source": [
    "corr_result_RR_D = []\n",
    "for i in range(6):\n",
    "    correction = abs(np.corrcoef(D_RR[i], np.array(data_frame_time_courses.iloc[:,i]))[1,0])\n",
    "    corr_result_RR_D.append(correction)\n",
    "corr_result_RR_D"
   ]
  },
  {
   "cell_type": "code",
   "execution_count": null,
   "id": "a0f4bae2",
   "metadata": {
    "ExecuteTime": {
     "start_time": "2021-08-25T17:35:38.001Z"
    }
   },
   "outputs": [],
   "source": [
    "corr_result_RR_A = []\n",
    "for i in range(6):\n",
    "    correction = abs(np.corrcoef(A_RR.iloc[i,:], np.array(SMs[i]))[1,0])\n",
    "    corr_result_RR_A.append(correction)\n",
    "corr_result_RR_A"
   ]
  },
  {
   "cell_type": "markdown",
   "id": "4c2e3c33",
   "metadata": {
    "ExecuteTime": {
     "end_time": "2021-08-25T08:42:25.626556Z",
     "start_time": "2021-08-25T08:42:25.622559Z"
    }
   },
   "source": [
    "### For LR:"
   ]
  },
  {
   "cell_type": "code",
   "execution_count": null,
   "id": "2c2bd0b1",
   "metadata": {
    "ExecuteTime": {
     "start_time": "2021-08-25T17:35:38.004Z"
    }
   },
   "outputs": [],
   "source": [
    "corr_result_LR_D = []\n",
    "for i in range(6):\n",
    "    correction = abs(np.corrcoef(D_LR[i], np.array(data_frame_time_courses.iloc[:,i]))[1,0])\n",
    "    corr_result_LR_D.append(correction)\n",
    "corr_result_LR_D"
   ]
  },
  {
   "cell_type": "code",
   "execution_count": null,
   "id": "b71af1fc",
   "metadata": {
    "ExecuteTime": {
     "start_time": "2021-08-25T17:35:38.007Z"
    }
   },
   "outputs": [],
   "source": [
    "corr_result_LR_A = []\n",
    "for i in range(6):\n",
    "    correction = abs(np.corrcoef(A_LR[i], np.array(SMs[i]))[1,0])\n",
    "    corr_result_LR_A.append(correction)\n",
    "corr_result_LR_A"
   ]
  },
  {
   "cell_type": "code",
   "execution_count": null,
   "id": "853e2802",
   "metadata": {
    "ExecuteTime": {
     "start_time": "2021-08-25T17:35:38.010Z"
    }
   },
   "outputs": [],
   "source": [
    "print(sum(corr_result_LR_D) > sum(corr_result_RR_D))"
   ]
  },
  {
   "cell_type": "code",
   "execution_count": null,
   "id": "110db75a",
   "metadata": {
    "ExecuteTime": {
     "start_time": "2021-08-25T17:35:38.012Z"
    }
   },
   "outputs": [],
   "source": [
    "print(sum(corr_result_LR_A) > sum(corr_result_RR_A))"
   ]
  },
  {
   "cell_type": "code",
   "execution_count": null,
   "id": "7f7193e1",
   "metadata": {
    "ExecuteTime": {
     "start_time": "2021-08-25T17:35:38.017Z"
    },
    "scrolled": true
   },
   "outputs": [],
   "source": [
    "A_RR"
   ]
  },
  {
   "cell_type": "code",
   "execution_count": null,
   "id": "281938f5",
   "metadata": {
    "ExecuteTime": {
     "start_time": "2021-08-25T17:35:38.020Z"
    }
   },
   "outputs": [],
   "source": [
    "D_RR"
   ]
  },
  {
   "cell_type": "code",
   "execution_count": null,
   "id": "bb251a26",
   "metadata": {},
   "outputs": [],
   "source": []
  },
  {
   "cell_type": "code",
   "execution_count": null,
   "id": "8ca27db9",
   "metadata": {},
   "outputs": [],
   "source": []
  },
  {
   "cell_type": "code",
   "execution_count": null,
   "id": "fddedaf1",
   "metadata": {},
   "outputs": [],
   "source": []
  },
  {
   "cell_type": "markdown",
   "id": "a8e17112",
   "metadata": {},
   "source": [
    "## 2.5"
   ]
  },
  {
   "cell_type": "code",
   "execution_count": null,
   "id": "eaca6bdc",
   "metadata": {
    "ExecuteTime": {
     "start_time": "2021-08-25T17:35:38.031Z"
    }
   },
   "outputs": [],
   "source": [
    "data_frame_time_courses.shape"
   ]
  },
  {
   "cell_type": "code",
   "execution_count": null,
   "id": "517edb06",
   "metadata": {
    "ExecuteTime": {
     "start_time": "2021-08-25T17:35:38.033Z"
    }
   },
   "outputs": [],
   "source": [
    "from sklearn.decomposition import PCA\n",
    "pca = PCA(n_components=6)\n",
    "PCs = pca.fit_transform(data_frame_time_courses)"
   ]
  },
  {
   "cell_type": "code",
   "execution_count": null,
   "id": "51896b7a",
   "metadata": {
    "ExecuteTime": {
     "start_time": "2021-08-25T17:35:38.036Z"
    }
   },
   "outputs": [],
   "source": [
    "for eigenvector in pca.components_:\n",
    "    print(eigenvector)"
   ]
  },
  {
   "cell_type": "code",
   "execution_count": null,
   "id": "e6d1f8cc",
   "metadata": {
    "ExecuteTime": {
     "start_time": "2021-08-25T17:35:38.039Z"
    }
   },
   "outputs": [],
   "source": [
    "eigenvalues = pca.explained_variance_"
   ]
  },
  {
   "cell_type": "code",
   "execution_count": null,
   "id": "526b6c01",
   "metadata": {
    "ExecuteTime": {
     "start_time": "2021-08-25T17:35:38.042Z"
    },
    "scrolled": false
   },
   "outputs": [],
   "source": [
    "x = [\"eigenvalue_1\",\"eigenvalue_2\",\"eigenvalue_3\",\"eigenvalue_4\",\"eigenvalue_5\",\"eigenvalue_6\"]\n",
    "fig = plt.figure(figsize = (10,5))\n",
    "plt.bar(x,eigenvalues)\n",
    "fig.autofmt_xdate()"
   ]
  },
  {
   "cell_type": "code",
   "execution_count": null,
   "id": "7b4f68a4",
   "metadata": {
    "ExecuteTime": {
     "start_time": "2021-08-25T17:35:38.044Z"
    },
    "scrolled": false
   },
   "outputs": [],
   "source": [
    "x = [i+1 for i in range(240)]\n",
    "name_list = ['SM1','SM2','SM3','SM4','SM5','SM6']\n",
    "for i in range(6):\n",
    "    fig. axe = plt.subplots(1,2,figsize = (16,6))\n",
    "    axe[0].plot(PCs.T[i])\n",
    "    axe[1].plot(data_frame_time_courses.iloc[:,i])\n",
    "    fig.show()"
   ]
  },
  {
   "cell_type": "code",
   "execution_count": null,
   "id": "8344de44",
   "metadata": {
    "ExecuteTime": {
     "start_time": "2021-08-25T17:35:38.047Z"
    }
   },
   "outputs": [],
   "source": [
    "clf = linear_model.Lasso(alpha=0.001)\n",
    "clf.fit(PCs,Standardized_X)\n",
    "A_PCA = clf.coef_.transpose()\n",
    "D_PCA = np.matmul(Standardized_X,A_LR.transpose())"
   ]
  },
  {
   "cell_type": "code",
   "execution_count": null,
   "id": "0ca7d81f",
   "metadata": {
    "ExecuteTime": {
     "start_time": "2021-08-25T17:35:38.050Z"
    }
   },
   "outputs": [],
   "source": [
    "print(A_PCA.shape)\n",
    "print(D_PCA.shape)"
   ]
  },
  {
   "cell_type": "code",
   "execution_count": null,
   "id": "7cfd6f99",
   "metadata": {
    "ExecuteTime": {
     "start_time": "2021-08-25T17:35:38.053Z"
    },
    "scrolled": false
   },
   "outputs": [],
   "source": [
    "x = [i + 1 for i in range(21)]\n",
    "name_list = [\"SM1\",\"SM2\",\"SM3\",\"SM4\",\"SM5\",\"SM6\"]\n",
    "for i in range(6):\n",
    "    fig, (ax1,ax2) = plt.subplots(1,2,figsize = (16,6))\n",
    "    fig.suptitle(\"Comparsion of heatmaps of Spatial Maps between retrieved from PCA and \" + name_list[i])\n",
    "    sns.heatmap(np.reshape(SMs[i], (21,21)).transpose(),yticklabels=x,xticklabels=x,ax =ax1)\n",
    "    sns.heatmap(abs(np.reshape(np.array(A_PCA[i]),(21,21))).transpose(),yticklabels = x, xticklabels = x,ax = ax2)\n",
    "    fig.show()"
   ]
  },
  {
   "cell_type": "code",
   "execution_count": null,
   "id": "904b5394",
   "metadata": {},
   "outputs": [],
   "source": []
  }
 ],
 "metadata": {
  "interpreter": {
   "hash": "27611f397dc410a3a97484b3246d717ea205c0fedb6864041b35f63538a7822f"
  },
  "kernelspec": {
   "display_name": "Python 3",
   "language": "python",
   "name": "python3"
  },
  "language_info": {
   "codemirror_mode": {
    "name": "ipython",
    "version": 3
   },
   "file_extension": ".py",
   "mimetype": "text/x-python",
   "name": "python",
   "nbconvert_exporter": "python",
   "pygments_lexer": "ipython3",
   "version": "3.8.8"
  },
  "varInspector": {
   "cols": {
    "lenName": 16,
    "lenType": 16,
    "lenVar": 40
   },
   "kernels_config": {
    "python": {
     "delete_cmd_postfix": "",
     "delete_cmd_prefix": "del ",
     "library": "var_list.py",
     "varRefreshCmd": "print(var_dic_list())"
    },
    "r": {
     "delete_cmd_postfix": ") ",
     "delete_cmd_prefix": "rm(",
     "library": "var_list.r",
     "varRefreshCmd": "cat(var_dic_list()) "
    }
   },
   "types_to_exclude": [
    "module",
    "function",
    "builtin_function_or_method",
    "instance",
    "_Feature"
   ],
   "window_display": false
  }
 },
 "nbformat": 4,
 "nbformat_minor": 5
}
